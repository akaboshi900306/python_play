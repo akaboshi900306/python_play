{
 "cells": [
  {
   "cell_type": "code",
   "execution_count": 179,
   "metadata": {},
   "outputs": [],
   "source": [
    "import os, sys\n",
    "import datetime\n",
    "import pandas as pd\n",
    "import numpy as np\n",
    "import datetime\n",
    "import math\n",
    "# Open a file\n",
    "path = r\"\\\\CPNVFS04\\depts\\HD\\IPR\\DCT\\FW 28 Due 5PM 8-10-20\\COMPILED\"\n",
    "# the path name need to be changed to next week's COMPILED shared folder\n",
    "os.chdir(path)"
   ]
  },
  {
   "cell_type": "code",
   "execution_count": 161,
   "metadata": {},
   "outputs": [
    {
     "name": "stdout",
     "output_type": "stream",
     "text": [
      "\\\\CPNVFS04\\depts\\HD\\IPR\\DCT\\FW 28 Due 5PM 8-10-20\\COMPILED\\20200810 C32 & 22 Transfers.xlsx\n",
      "\\\\CPNVFS04\\depts\\HD\\IPR\\DCT\\FW 28 Due 5PM 8-10-20\\COMPILED\\CL1Transfers.csv\n",
      "\\\\CPNVFS04\\depts\\HD\\IPR\\DCT\\FW 28 Due 5PM 8-10-20\\COMPILED\\CL9 8.10 SDC Transfers.xlsx\n",
      "\\\\CPNVFS04\\depts\\HD\\IPR\\DCT\\FW 28 Due 5PM 8-10-20\\COMPILED\\D21 C7 Manual_transfers_upload 8.10.2020.xlsx\n",
      "\\\\CPNVFS04\\depts\\HD\\IPR\\DCT\\FW 28 Due 5PM 8-10-20\\COMPILED\\D23CL1_SDCTrans_FW26.xlsx\n",
      "\\\\CPNVFS04\\depts\\HD\\IPR\\DCT\\FW 28 Due 5PM 8-10-20\\COMPILED\\D25C11 Manual_transfers_upload_template8.4.2020.xlsx\n",
      "\\\\CPNVFS04\\depts\\HD\\IPR\\DCT\\FW 28 Due 5PM 8-10-20\\COMPILED\\D25HC28 Manual_transfers.xlsx\n",
      "\\\\CPNVFS04\\depts\\HD\\IPR\\DCT\\FW 28 Due 5PM 8-10-20\\COMPILED\\D28I_C35 Walks_ Manual_transfers_upload_template_8.6.2020.xlsx\n",
      "\\\\CPNVFS04\\depts\\HD\\IPR\\DCT\\FW 28 Due 5PM 8-10-20\\COMPILED\\D28_C11 Manual Transfers.xlsx\n",
      "\\\\CPNVFS04\\depts\\HD\\IPR\\DCT\\FW 28 Due 5PM 8-10-20\\COMPILED\\D28_C22TransferSubmission.xlsx\n",
      "\\\\CPNVFS04\\depts\\HD\\IPR\\DCT\\FW 28 Due 5PM 8-10-20\\COMPILED\\FW27_Trimmers_Transfers.xlsx\n",
      "\\\\CPNVFS04\\depts\\HD\\IPR\\DCT\\FW 28 Due 5PM 8-10-20\\COMPILED\\Manual_transfers_upload_Class 4_FW 27.xlsx\n"
     ]
    }
   ],
   "source": [
    "for file in dirs:\n",
    "    URL = os.path.join(path, file)\n",
    "    print (URL)"
   ]
  },
  {
   "cell_type": "code",
   "execution_count": 162,
   "metadata": {},
   "outputs": [
    {
     "name": "stdout",
     "output_type": "stream",
     "text": [
      "20200810 C32 & 22 Transfers.xlsx 3\n",
      "CL1Transfers.csv 4\n",
      "CL9 8.10 SDC Transfers.xlsx 118\n",
      "D21 C7 Manual_transfers_upload 8.10.2020.xlsx 21\n",
      "D23CL1_SDCTrans_FW26.xlsx 13\n",
      "D25C11 Manual_transfers_upload_template8.4.2020.xlsx 21\n",
      "D25HC28 Manual_transfers.xlsx 2\n",
      "D28I_C35 Walks_ Manual_transfers_upload_template_8.6.2020.xlsx 8\n",
      "D28_C11 Manual Transfers.xlsx 19\n",
      "D28_C22TransferSubmission.xlsx 4\n",
      "FW27_Trimmers_Transfers.xlsx 16\n",
      "Manual_transfers_upload_Class 4_FW 27.xlsx 5\n"
     ]
    }
   ],
   "source": [
    "combine = pd.DataFrame()\n",
    "for file in dirs:\n",
    "    URL = os.path.join(path, file)\n",
    "    try:\n",
    "        df = pd.read_csv(URL, header=0)\n",
    "        df = df.iloc[:,:7]\n",
    "        df=df.dropna(how='all')\n",
    "    except:\n",
    "        df = pd.read_excel(URL, header=0)\n",
    "        df = df.iloc[:,:7]\n",
    "        df=df.dropna(how='all')\n",
    "    print(file,len(df))"
   ]
  },
  {
   "cell_type": "code",
   "execution_count": 163,
   "metadata": {},
   "outputs": [],
   "source": [
    "combine = pd.DataFrame()\n",
    "for file in dirs:\n",
    "    URL = os.path.join(path, file)\n",
    "    try:\n",
    "        df = pd.read_csv(URL, header=0)\n",
    "        df = df.iloc[:,:7]\n",
    "        df = df.dropna(how='all')\n",
    "        df[\"Quantity\"] = df[\"Quantity\"].astype(\"str\")\n",
    "        try:\n",
    "            df[\"Quantity\"] = df[\"Quantity\"].apply(lambda x: int(x.replace(',', '')))\n",
    "        except:\n",
    "            pass\n",
    "    except:\n",
    "        df = pd.read_excel(URL, header=0)\n",
    "        df = df.iloc[:,:7]\n",
    "        df = df.dropna(how='all')\n",
    "        df[\"Quantity\"] = df[\"Quantity\"].astype(\"str\")\n",
    "        try:\n",
    "            df[\"Quantity\"] = df[\"Quantity\"].apply(lambda x: int(x.replace(',', '')))\n",
    "        except:\n",
    "            pass\n",
    "        \n",
    "    combine = pd.concat([combine, df],ignore_index=True)\n",
    "    combine = combine.dropna(how='all')\n",
    "    combine.iloc[:,:3] =combine.iloc[:,:3].astype(int)"
   ]
  },
  {
   "cell_type": "code",
   "execution_count": 164,
   "metadata": {},
   "outputs": [],
   "source": [
    "for index, row in combine.iterrows():\n",
    "    try:\n",
    "        d = combine.loc[index,\"DCDD\"].date()\n",
    "        combine.loc[index,'DCDD'] = \"%d/%d/%d\"%(d.month, d.day, d.year)\n",
    "    except:\n",
    "        pass"
   ]
  },
  {
   "cell_type": "markdown",
   "metadata": {},
   "source": [
    "## Drop row contains SDC 5151"
   ]
  },
  {
   "cell_type": "code",
   "execution_count": 168,
   "metadata": {},
   "outputs": [],
   "source": [
    "combine = combine.loc[~((combine[\"From DC\"]== 5151) | (combine[\"To DC\"]== 5151))]"
   ]
  },
  {
   "cell_type": "code",
   "execution_count": 183,
   "metadata": {},
   "outputs": [],
   "source": [
    "b =int((datetime.date.today()- datetime. date(2020, 5, 11)).days)/7\n",
    "i= 14+ math.floor(b)"
   ]
  },
  {
   "cell_type": "code",
   "execution_count": 186,
   "metadata": {},
   "outputs": [],
   "source": [
    "save_path = r\"\\\\CPNVFS04\\depts\\HD\\IPR\\DCT\\FW 28 Due 5PM 8-10-20\\Admin\\Compiled_FW\" + str(i) + \"20.csv\"\n",
    "\n",
    "#combine.to_csv(save_path,index = False)\n",
    "\n",
    "# save_path name should also be changed to next week Admin share folder, also, name should be changed to Compiled_FW2920.csv for example."
   ]
  }
 ],
 "metadata": {
  "kernelspec": {
   "display_name": "Python 3",
   "language": "python",
   "name": "python3"
  },
  "language_info": {
   "codemirror_mode": {
    "name": "ipython",
    "version": 3
   },
   "file_extension": ".py",
   "mimetype": "text/x-python",
   "name": "python",
   "nbconvert_exporter": "python",
   "pygments_lexer": "ipython3",
   "version": "3.7.3"
  }
 },
 "nbformat": 4,
 "nbformat_minor": 2
}
