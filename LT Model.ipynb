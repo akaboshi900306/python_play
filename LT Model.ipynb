{
 "cells": [
  {
   "cell_type": "code",
   "execution_count": 1,
   "metadata": {},
   "outputs": [],
   "source": [
    "# Import ALL the things!\n",
    "import pandas as pd\n",
    "import pandas_gbq\n",
    "import dask.dataframe as dd\n",
    "import numpy as np\n",
    "import pickle as pkl\n",
    "from sklearn.model_selection import train_test_split, RandomizedSearchCV, KFold, cross_validate, RandomizedSearchCV\n",
    "from sklearn.decomposition import PCA\n",
    "from sklearn.preprocessing import StandardScaler\n",
    "from sklearn.neural_network import MLPRegressor\n",
    "from sklearn.metrics import make_scorer, mean_absolute_error, mean_squared_error\n",
    "from sklearn import metrics\n",
    "from scipy.stats import norm, randint\n",
    "from xgboost import XGBRegressor\n",
    "from googleapiclient import discovery\n",
    "from oauth2client.client import GoogleCredentials\n",
    "\n",
    "import matplotlib.pyplot as plt\n",
    "import numpy as np\n",
    "from matplotlib import colors\n",
    "from matplotlib.ticker import PercentFormatter"
   ]
  },
  {
   "cell_type": "code",
   "execution_count": 19,
   "metadata": {},
   "outputs": [],
   "source": [
    "# Global variables\n",
    "FW = \"50\"\n",
    "DATASET_NAME = 'KVZ_LT_PILOT'\n",
    "friday = '2019-12-13'"
   ]
  },
  {
   "cell_type": "code",
   "execution_count": 38,
   "metadata": {
    "scrolled": false
   },
   "outputs": [],
   "source": [
    "# Download training data from BigQuery into Jupyter\n",
    "#query = \"\"\"\n",
    "#SELECT * EXCEPT (MVNDR_NBR, ORIGIN) FROM `analytics-supplychain-thd.\"\"\" + DATASET_NAME + \"\"\".TEST_SET_FNL`\n",
    "#WHERE _PARTITIONTIME = '\"\"\" + friday + \"\"\"'\n",
    "#UNION ALL\n",
    "#SELECT * EXCEPT (MVNDR_NBR, ORIGIN) FROM `analytics-supplychain-thd.\"\"\" + DATASET_NAME + \"\"\".TRAINING_SET_FNL`\n",
    "#WHERE _PARTITIONDATE = '\"\"\" + friday + \"\"\"'\"\"\"\n",
    "\n",
    "query = \"\"\"SELECT * EXCEPT (MVNDR_NBR, ORIGIN, FSCL_WK_NBR),\n",
    "COS((FSCL_WK_NBR - 1) * 2 * ACOS(-1) / 52) as FSCL_WK_COS,\n",
    "SIN((FSCL_WK_NBR - 1) * 2 * ACOS(-1) / 52) as FSCL_WK_SIN,\n",
    "CASE WHEN FSCL_WK_NBR = 50 and FSCL_YR =2019\n",
    " THEN 1 ELSE 0 END AS PILOT_FLG\n",
    "FROM `analytics-supplychain-thd.KVZ_LT_PILOT.FULL_DATASET` \"\"\"\n",
    "\n",
    "data = pd.read_gbq(query, 'analytics-supplychain-thd', dialect = 'standard')"
   ]
  },
  {
   "cell_type": "code",
   "execution_count": 39,
   "metadata": {},
   "outputs": [
    {
     "data": {
      "text/plain": [
       "(array([96319., 35047., 31412., 48453., 23548., 23114., 25736., 29038.,\n",
       "        29984., 68255.]),\n",
       " array([-1. , -0.8, -0.6, -0.4, -0.2,  0. ,  0.2,  0.4,  0.6,  0.8,  1. ]),\n",
       " <a list of 10 Patch objects>)"
      ]
     },
     "execution_count": 39,
     "metadata": {},
     "output_type": "execute_result"
    },
    {
     "data": {
      "image/png": "[encoded data removed]",
      "text/plain": [
       "<Figure size 432x288 with 1 Axes>"
      ]
     },
     "metadata": {
      "needs_background": "light"
     },
     "output_type": "display_data"
    }
   ],
   "source": [
    "plt.hist(data.FSCL_WK_SIN)"
   ]
  },
  {
   "cell_type": "code",
   "execution_count": 40,
   "metadata": {},
   "outputs": [
    {
     "data": {
      "text/plain": [
       "Index(['RECV_LOC_NBR', 'CARR_CD', 'MONTH_OF_YEAR', 'DAY_OF_WK_NBR', 'FSCL_YR',\n",
       "       'TRIP_DSTN', 'PREV_WK_VENDOR_UOTC_PERF', 'WK_2_VENDOR_UOTC_PERF',\n",
       "       'PREV_WK_RDC_UOTC_PERF', 'WK_2_RDC_UOTC_PERF',\n",
       "       'PREV_WK_FINAL_IB_UOTC_PERF', 'WK_2_FINAL_IB_UOTC_PERF',\n",
       "       'PREV_WK_COMPLETENESS', 'WK_2_COMPLETENESS', 'PREV_WK_ON_TIME_METRIC',\n",
       "       'WK_2_ON_TIME_METRIC', 'TTL_IB_LT_wghtd', 'L20_AVG_VTT_ACTUAL_LT',\n",
       "       'L100_AVG_VTT_ACTUAL_LT', 'L20_STD_VTT_ACTUAL_LT',\n",
       "       'L100_STD_VTT_ACTUAL_LT', 'L20_AVG_VNDR_DWELL_LT_ACTUAL',\n",
       "       'L100_AVG_VNDR_DWELL_LT_ACTUAL', 'L20_STD_VNDR_DWELL_LT_ACTUAL',\n",
       "       'L100_STD_VNDR_DWELL_LT_ACTUAL', 'L20_AVG_CARRIER_RDC_IB_ACTUAL_LT',\n",
       "       'L100_AVG_CARRIER_RDC_IB_ACTUAL_LT', 'L20_STD_CARRIER_RDC_IB_ACTUAL_LT',\n",
       "       'L100_STD_CARRIER_RDC_IB_ACTUAL_LT', 'L20_AVG_RDC_IB_ACT_LT',\n",
       "       'L100_AVG_RDC_IB_ACT_LT', 'L20_STD_RDC_IB_ACT_LT',\n",
       "       'L100_STD_RDC_IB_ACT_LT', 'L20_AVG_TTL_IB_LT_wghtd',\n",
       "       'L100_AVG_TTL_IB_LT_wghtd', 'L20_TTL_IB_LT_wghtd',\n",
       "       'L100_TTL_IB_LT_wghtd', 'SF', 'S5_AVG_SF', 'S3_AVG_SF', 'NEW_SKU_COUNT',\n",
       "       'EFS_VTT', 'EFS_VENDOR_DWELL', 'EFS_CARRIER', 'ORD_ID', 'FSCL_WK_COS',\n",
       "       'FSCL_WK_SIN', 'PILOT_FLG'],\n",
       "      dtype='object')"
      ]
     },
     "execution_count": 40,
     "metadata": {},
     "output_type": "execute_result"
    }
   ],
   "source": [
    "data.columns"
   ]
  },
  {
   "cell_type": "code",
   "execution_count": 41,
   "metadata": {
    "scrolled": true
   },
   "outputs": [],
   "source": [
    "# One-hot encode all categorical variables\n",
    "cat_cols =['RECV_LOC_NBR','CARR_CD','MONTH_OF_YEAR',\n",
    "            'DAY_OF_WK_NBR']\n",
    "\n",
    "data[cat_cols] = data[cat_cols].apply(lambda x: x.astype('category'))\n",
    "data = pd.get_dummies(data, columns = cat_cols, drop_first = True)\n",
    "\n",
    "# Log-transform of inbound leadtime\n",
    "data.TTL_IB_LT_wghtd = np.log( data.TTL_IB_LT_wghtd * 24 * 60)\n",
    "\n",
    "# Upload one-hot encoded data back into BigQuery\n",
    "# pandas_gbq.to_gbq(data, DATASET_NAME + '.TESTING_OUTPUT', project_id='analytics-supplychain-thd', if_exists = 'replace')"
   ]
  },
  {
   "cell_type": "code",
   "execution_count": null,
   "metadata": {},
   "outputs": [],
   "source": [
    "def mae(y_true, y_pred):\n",
    "    y_pred = (np.exp(y_pred)/(24*60))\n",
    "    y_true = (np.exp(y_true)/(24*60))\n",
    "    return np.mean(y_true - y_pred))\n",
    "    \n",
    "    "
   ]
  },
  {
   "cell_type": "code",
   "execution_count": 42,
   "metadata": {},
   "outputs": [],
   "source": [
    "# Split into test-train\n",
    "#df = data[data['FSCL_WK_NBR_' + FW] == 0]\n",
    "#df2 = data[data['FSCL_WK_NBR_' + FW] == 1]\n",
    "\n",
    "df = data[data['PILOT_FLG'] == 0]\n",
    "df2 = data[data['PILOT_FLG'] == 1]\n",
    "\n",
    "# Set up cross-fold validation with random seed for reproducibility\n",
    "seed = 9102020 #9102018\n",
    "kfold = KFold(n_splits=5, random_state=seed)\n",
    "\n",
    "# Our result metrics\n",
    "def mae(y_true, y_pred):\n",
    "    y_pred=(np.exp(y_pred)/(24*60))\n",
    "    y_true =(np.exp(y_true)/(24*60)) \n",
    "    return  (mean_absolute_error(y_true, y_pred))\n",
    "\n",
    "def mean_absolute_percentage_error(y_true, y_pred): \n",
    "    y_pred=(np.exp(y_pred)/(24*60)).round(2)\n",
    "    y_true =(np.exp(y_true)/(24*60)).round(2)   \n",
    "    y_true, y_pred = np.array(y_true), np.array(y_pred)\n",
    "    #return ((sum(   np.abs((y_true - y_pred)) )/sum( y_true)) *100)\n",
    "    return   -( np.sum( np.abs(y_true- y_pred)/y_true )/len(y_true)  )*100 \n",
    "\n",
    "def mean_percentage_error(y_true, y_pred): \n",
    "    y_pred=(np.exp(y_pred)/(24*60))\n",
    "    y_true =(np.exp(y_true)/(24*60))\n",
    "    y_true, y_pred = np.array(y_true), np.array(y_pred)\n",
    "    return ((sum((y_true - y_pred) )/ sum(y_true) ) *100)\n",
    "\n",
    "# Turn the functions above into official scorer objects - smaller value is better (?)\n",
    "mape_scorer = make_scorer (mean_absolute_percentage_error, greater_is_better= False)\n",
    "mpe_scorer = make_scorer (mean_percentage_error, greater_is_better= False)\n",
    "mae_scorer = make_scorer(mae, greater_is_better= False)\n",
    "\n",
    "scoring = {'mae': mae_scorer,\n",
    "           'mape': mape_scorer,\n",
    "           'mpe': mpe_scorer}\n"
   ]
  },
  {
   "cell_type": "code",
   "execution_count": 37,
   "metadata": {},
   "outputs": [
    {
     "data": {
      "text/plain": [
       "{'mae': make_scorer(mae, greater_is_better=False),\n",
       " 'mape': make_scorer(mean_absolute_percentage_error, greater_is_better=False),\n",
       " 'mpe': make_scorer(mean_percentage_error, greater_is_better=False)}"
      ]
     },
     "execution_count": 37,
     "metadata": {},
     "output_type": "execute_result"
    }
   ],
   "source": [
    "scoring "
   ]
  },
  {
   "cell_type": "code",
   "execution_count": 45,
   "metadata": {},
   "outputs": [
    {
     "name": "stderr",
     "output_type": "stream",
     "text": [
      "C:\\Users\\yxg0rzh\\AppData\\Local\\Continuum\\anaconda3\\lib\\site-packages\\xgboost\\core.py:588: FutureWarning: Series.base is deprecated and will be removed in a future version\n",
      "  data.base is not None and isinstance(data, np.ndarray) \\\n"
     ]
    },
    {
     "name": "stdout",
     "output_type": "stream",
     "text": [
      "[16:47:48] WARNING: C:/Jenkins/workspace/xgboost-win64_release_0.90/src/objective/regression_obj.cu:152: reg:linear is now deprecated in favor of reg:squarederror.\n",
      "Fitting 5 folds for each of 10 candidates, totalling 50 fits\n"
     ]
    },
    {
     "name": "stderr",
     "output_type": "stream",
     "text": [
      "[Parallel(n_jobs=1)]: Using backend SequentialBackend with 1 concurrent workers.\n"
     ]
    },
    {
     "name": "stdout",
     "output_type": "stream",
     "text": [
      "[CV] learning_rate=0.1, max_depth=7, n_estimators=91 .................\n",
      "[16:50:21] WARNING: C:/Jenkins/workspace/xgboost-win64_release_0.90/src/objective/regression_obj.cu:152: reg:linear is now deprecated in favor of reg:squarederror.\n",
      "[CV]  learning_rate=0.1, max_depth=7, n_estimators=91, mae=-1.369, mape=22.964, mpe=-9.396, total=971.6min\n"
     ]
    },
    {
     "name": "stderr",
     "output_type": "stream",
     "text": [
      "[Parallel(n_jobs=1)]: Done   1 out of   1 | elapsed: 971.6min remaining:    0.0s\n"
     ]
    },
    {
     "name": "stdout",
     "output_type": "stream",
     "text": [
      "[CV] learning_rate=0.1, max_depth=7, n_estimators=91 .................\n"
     ]
    },
    {
     "name": "stderr",
     "output_type": "stream",
     "text": [
      "C:\\Users\\yxg0rzh\\AppData\\Local\\Continuum\\anaconda3\\lib\\site-packages\\xgboost\\core.py:587: FutureWarning: Series.base is deprecated and will be removed in a future version\n",
      "  if getattr(data, 'base', None) is not None and \\\n"
     ]
    },
    {
     "name": "stdout",
     "output_type": "stream",
     "text": [
      "[09:01:59] WARNING: C:/Jenkins/workspace/xgboost-win64_release_0.90/src/objective/regression_obj.cu:152: reg:linear is now deprecated in favor of reg:squarederror.\n",
      "[CV]  learning_rate=0.1, max_depth=7, n_estimators=91, mae=-1.144, mape=19.240, mpe=-2.952, total= 4.5min\n"
     ]
    },
    {
     "name": "stderr",
     "output_type": "stream",
     "text": [
      "[Parallel(n_jobs=1)]: Done   2 out of   2 | elapsed: 976.2min remaining:    0.0s\n"
     ]
    },
    {
     "name": "stdout",
     "output_type": "stream",
     "text": [
      "[CV] learning_rate=0.1, max_depth=7, n_estimators=91 .................\n"
     ]
    },
    {
     "name": "stderr",
     "output_type": "stream",
     "text": [
      "C:\\Users\\yxg0rzh\\AppData\\Local\\Continuum\\anaconda3\\lib\\site-packages\\xgboost\\core.py:587: FutureWarning: Series.base is deprecated and will be removed in a future version\n",
      "  if getattr(data, 'base', None) is not None and \\\n"
     ]
    },
    {
     "name": "stdout",
     "output_type": "stream",
     "text": [
      "[09:06:32] WARNING: C:/Jenkins/workspace/xgboost-win64_release_0.90/src/objective/regression_obj.cu:152: reg:linear is now deprecated in favor of reg:squarederror.\n",
      "[CV]  learning_rate=0.1, max_depth=7, n_estimators=91, mae=-1.213, mape=19.084, mpe=-3.630, total= 4.1min\n"
     ]
    },
    {
     "name": "stderr",
     "output_type": "stream",
     "text": [
      "[Parallel(n_jobs=1)]: Done   3 out of   3 | elapsed: 980.3min remaining:    0.0s\n"
     ]
    },
    {
     "name": "stdout",
     "output_type": "stream",
     "text": [
      "[CV] learning_rate=0.1, max_depth=7, n_estimators=91 .................\n"
     ]
    },
    {
     "name": "stderr",
     "output_type": "stream",
     "text": [
      "C:\\Users\\yxg0rzh\\AppData\\Local\\Continuum\\anaconda3\\lib\\site-packages\\xgboost\\core.py:587: FutureWarning: Series.base is deprecated and will be removed in a future version\n",
      "  if getattr(data, 'base', None) is not None and \\\n"
     ]
    },
    {
     "name": "stdout",
     "output_type": "stream",
     "text": [
      "[09:10:40] WARNING: C:/Jenkins/workspace/xgboost-win64_release_0.90/src/objective/regression_obj.cu:152: reg:linear is now deprecated in favor of reg:squarederror.\n",
      "[CV]  learning_rate=0.1, max_depth=7, n_estimators=91, mae=-1.179, mape=19.678, mpe=-3.901, total= 4.1min\n"
     ]
    },
    {
     "name": "stderr",
     "output_type": "stream",
     "text": [
      "[Parallel(n_jobs=1)]: Done   4 out of   4 | elapsed: 984.4min remaining:    0.0s\n"
     ]
    },
    {
     "name": "stdout",
     "output_type": "stream",
     "text": [
      "[CV] learning_rate=0.1, max_depth=7, n_estimators=91 .................\n"
     ]
    },
    {
     "name": "stderr",
     "output_type": "stream",
     "text": [
      "C:\\Users\\yxg0rzh\\AppData\\Local\\Continuum\\anaconda3\\lib\\site-packages\\xgboost\\core.py:587: FutureWarning: Series.base is deprecated and will be removed in a future version\n",
      "  if getattr(data, 'base', None) is not None and \\\n"
     ]
    },
    {
     "name": "stdout",
     "output_type": "stream",
     "text": [
      "[09:14:45] WARNING: C:/Jenkins/workspace/xgboost-win64_release_0.90/src/objective/regression_obj.cu:152: reg:linear is now deprecated in favor of reg:squarederror.\n",
      "[CV]  learning_rate=0.1, max_depth=7, n_estimators=91, mae=-1.188, mape=19.640, mpe=-2.699, total= 4.5min\n"
     ]
    },
    {
     "name": "stderr",
     "output_type": "stream",
     "text": [
      "[Parallel(n_jobs=1)]: Done   5 out of   5 | elapsed: 988.9min remaining:    0.0s\n"
     ]
    },
    {
     "name": "stdout",
     "output_type": "stream",
     "text": [
      "[CV] learning_rate=0.2, max_depth=7, n_estimators=78 .................\n"
     ]
    },
    {
     "name": "stderr",
     "output_type": "stream",
     "text": [
      "C:\\Users\\yxg0rzh\\AppData\\Local\\Continuum\\anaconda3\\lib\\site-packages\\xgboost\\core.py:587: FutureWarning: Series.base is deprecated and will be removed in a future version\n",
      "  if getattr(data, 'base', None) is not None and \\\n"
     ]
    },
    {
     "name": "stdout",
     "output_type": "stream",
     "text": [
      "[09:19:16] WARNING: C:/Jenkins/workspace/xgboost-win64_release_0.90/src/objective/regression_obj.cu:152: reg:linear is now deprecated in favor of reg:squarederror.\n",
      "[CV]  learning_rate=0.2, max_depth=7, n_estimators=78, mae=-1.430, mape=23.730, mpe=-10.507, total= 3.4min\n"
     ]
    },
    {
     "name": "stderr",
     "output_type": "stream",
     "text": [
      "[Parallel(n_jobs=1)]: Done   6 out of   6 | elapsed: 992.3min remaining:    0.0s\n"
     ]
    },
    {
     "name": "stdout",
     "output_type": "stream",
     "text": [
      "[CV] learning_rate=0.2, max_depth=7, n_estimators=78 .................\n"
     ]
    },
    {
     "name": "stderr",
     "output_type": "stream",
     "text": [
      "C:\\Users\\yxg0rzh\\AppData\\Local\\Continuum\\anaconda3\\lib\\site-packages\\xgboost\\core.py:587: FutureWarning: Series.base is deprecated and will be removed in a future version\n",
      "  if getattr(data, 'base', None) is not None and \\\n"
     ]
    },
    {
     "name": "stdout",
     "output_type": "stream",
     "text": [
      "[09:22:39] WARNING: C:/Jenkins/workspace/xgboost-win64_release_0.90/src/objective/regression_obj.cu:152: reg:linear is now deprecated in favor of reg:squarederror.\n",
      "[CV]  learning_rate=0.2, max_depth=7, n_estimators=78, mae=-1.142, mape=19.194, mpe=-2.621, total= 3.5min\n"
     ]
    },
    {
     "name": "stderr",
     "output_type": "stream",
     "text": [
      "[Parallel(n_jobs=1)]: Done   7 out of   7 | elapsed: 995.8min remaining:    0.0s\n"
     ]
    },
    {
     "name": "stdout",
     "output_type": "stream",
     "text": [
      "[CV] learning_rate=0.2, max_depth=7, n_estimators=78 .................\n"
     ]
    },
    {
     "name": "stderr",
     "output_type": "stream",
     "text": [
      "C:\\Users\\yxg0rzh\\AppData\\Local\\Continuum\\anaconda3\\lib\\site-packages\\xgboost\\core.py:587: FutureWarning: Series.base is deprecated and will be removed in a future version\n",
      "  if getattr(data, 'base', None) is not None and \\\n"
     ]
    },
    {
     "name": "stdout",
     "output_type": "stream",
     "text": [
      "[09:26:08] WARNING: C:/Jenkins/workspace/xgboost-win64_release_0.90/src/objective/regression_obj.cu:152: reg:linear is now deprecated in favor of reg:squarederror.\n",
      "[CV]  learning_rate=0.2, max_depth=7, n_estimators=78, mae=-1.208, mape=19.031, mpe=-3.458, total= 3.6min\n"
     ]
    },
    {
     "name": "stderr",
     "output_type": "stream",
     "text": [
      "[Parallel(n_jobs=1)]: Done   8 out of   8 | elapsed: 999.3min remaining:    0.0s\n"
     ]
    },
    {
     "name": "stdout",
     "output_type": "stream",
     "text": [
      "[CV] learning_rate=0.2, max_depth=7, n_estimators=78 .................\n"
     ]
    },
    {
     "name": "stderr",
     "output_type": "stream",
     "text": [
      "C:\\Users\\yxg0rzh\\AppData\\Local\\Continuum\\anaconda3\\lib\\site-packages\\xgboost\\core.py:587: FutureWarning: Series.base is deprecated and will be removed in a future version\n",
      "  if getattr(data, 'base', None) is not None and \\\n"
     ]
    },
    {
     "name": "stdout",
     "output_type": "stream",
     "text": [
      "[09:29:42] WARNING: C:/Jenkins/workspace/xgboost-win64_release_0.90/src/objective/regression_obj.cu:152: reg:linear is now deprecated in favor of reg:squarederror.\n"
     ]
    },
    {
     "ename": "KeyboardInterrupt",
     "evalue": "",
     "output_type": "error",
     "traceback": [
      "\u001b[1;31m---------------------------------------------------------------------------\u001b[0m",
      "\u001b[1;31mKeyboardInterrupt\u001b[0m                         Traceback (most recent call last)",
      "\u001b[1;32m<ipython-input-45-cb63b82b4814>\u001b[0m in \u001b[0;36m<module>\u001b[1;34m\u001b[0m\n\u001b[0;32m     15\u001b[0m                                               'ORD_ID'])],df.TTL_IB_LT_wghtd)\n\u001b[0;32m     16\u001b[0m xgbrandomsearch.fit(df[df.columns.difference(['TTL_IB_LT_wghtd', 'PILOT_FLG', \\\n\u001b[1;32m---> 17\u001b[1;33m                                               'ORD_ID'])],df.TTL_IB_LT_wghtd)\n\u001b[0m\u001b[0;32m     18\u001b[0m \u001b[1;33m\u001b[0m\u001b[0m\n",
      "\u001b[1;32m~\\AppData\\Local\\Continuum\\anaconda3\\lib\\site-packages\\sklearn\\model_selection\\_search.py\u001b[0m in \u001b[0;36mfit\u001b[1;34m(self, X, y, groups, **fit_params)\u001b[0m\n\u001b[0;32m    685\u001b[0m                 \u001b[1;32mreturn\u001b[0m \u001b[0mresults\u001b[0m\u001b[1;33m\u001b[0m\u001b[1;33m\u001b[0m\u001b[0m\n\u001b[0;32m    686\u001b[0m \u001b[1;33m\u001b[0m\u001b[0m\n\u001b[1;32m--> 687\u001b[1;33m             \u001b[0mself\u001b[0m\u001b[1;33m.\u001b[0m\u001b[0m_run_search\u001b[0m\u001b[1;33m(\u001b[0m\u001b[0mevaluate_candidates\u001b[0m\u001b[1;33m)\u001b[0m\u001b[1;33m\u001b[0m\u001b[1;33m\u001b[0m\u001b[0m\n\u001b[0m\u001b[0;32m    688\u001b[0m \u001b[1;33m\u001b[0m\u001b[0m\n\u001b[0;32m    689\u001b[0m         \u001b[1;31m# For multi-metric evaluation, store the best_index_, best_params_ and\u001b[0m\u001b[1;33m\u001b[0m\u001b[1;33m\u001b[0m\u001b[1;33m\u001b[0m\u001b[0m\n",
      "\u001b[1;32m~\\AppData\\Local\\Continuum\\anaconda3\\lib\\site-packages\\sklearn\\model_selection\\_search.py\u001b[0m in \u001b[0;36m_run_search\u001b[1;34m(self, evaluate_candidates)\u001b[0m\n\u001b[0;32m   1466\u001b[0m         evaluate_candidates(ParameterSampler(\n\u001b[0;32m   1467\u001b[0m             \u001b[0mself\u001b[0m\u001b[1;33m.\u001b[0m\u001b[0mparam_distributions\u001b[0m\u001b[1;33m,\u001b[0m \u001b[0mself\u001b[0m\u001b[1;33m.\u001b[0m\u001b[0mn_iter\u001b[0m\u001b[1;33m,\u001b[0m\u001b[1;33m\u001b[0m\u001b[1;33m\u001b[0m\u001b[0m\n\u001b[1;32m-> 1468\u001b[1;33m             random_state=self.random_state))\n\u001b[0m",
      "\u001b[1;32m~\\AppData\\Local\\Continuum\\anaconda3\\lib\\site-packages\\sklearn\\model_selection\\_search.py\u001b[0m in \u001b[0;36mevaluate_candidates\u001b[1;34m(candidate_params)\u001b[0m\n\u001b[0;32m    664\u001b[0m                                \u001b[1;32mfor\u001b[0m \u001b[0mparameters\u001b[0m\u001b[1;33m,\u001b[0m \u001b[1;33m(\u001b[0m\u001b[0mtrain\u001b[0m\u001b[1;33m,\u001b[0m \u001b[0mtest\u001b[0m\u001b[1;33m)\u001b[0m\u001b[1;33m\u001b[0m\u001b[1;33m\u001b[0m\u001b[0m\n\u001b[0;32m    665\u001b[0m                                in product(candidate_params,\n\u001b[1;32m--> 666\u001b[1;33m                                           cv.split(X, y, groups)))\n\u001b[0m\u001b[0;32m    667\u001b[0m \u001b[1;33m\u001b[0m\u001b[0m\n\u001b[0;32m    668\u001b[0m                 \u001b[1;32mif\u001b[0m \u001b[0mlen\u001b[0m\u001b[1;33m(\u001b[0m\u001b[0mout\u001b[0m\u001b[1;33m)\u001b[0m \u001b[1;33m<\u001b[0m \u001b[1;36m1\u001b[0m\u001b[1;33m:\u001b[0m\u001b[1;33m\u001b[0m\u001b[1;33m\u001b[0m\u001b[0m\n",
      "\u001b[1;32m~\\AppData\\Local\\Continuum\\anaconda3\\lib\\site-packages\\joblib\\parallel.py\u001b[0m in \u001b[0;36m__call__\u001b[1;34m(self, iterable)\u001b[0m\n\u001b[0;32m    922\u001b[0m                 \u001b[0mself\u001b[0m\u001b[1;33m.\u001b[0m\u001b[0m_iterating\u001b[0m \u001b[1;33m=\u001b[0m \u001b[0mself\u001b[0m\u001b[1;33m.\u001b[0m\u001b[0m_original_iterator\u001b[0m \u001b[1;32mis\u001b[0m \u001b[1;32mnot\u001b[0m \u001b[1;32mNone\u001b[0m\u001b[1;33m\u001b[0m\u001b[1;33m\u001b[0m\u001b[0m\n\u001b[0;32m    923\u001b[0m \u001b[1;33m\u001b[0m\u001b[0m\n\u001b[1;32m--> 924\u001b[1;33m             \u001b[1;32mwhile\u001b[0m \u001b[0mself\u001b[0m\u001b[1;33m.\u001b[0m\u001b[0mdispatch_one_batch\u001b[0m\u001b[1;33m(\u001b[0m\u001b[0miterator\u001b[0m\u001b[1;33m)\u001b[0m\u001b[1;33m:\u001b[0m\u001b[1;33m\u001b[0m\u001b[1;33m\u001b[0m\u001b[0m\n\u001b[0m\u001b[0;32m    925\u001b[0m                 \u001b[1;32mpass\u001b[0m\u001b[1;33m\u001b[0m\u001b[1;33m\u001b[0m\u001b[0m\n\u001b[0;32m    926\u001b[0m \u001b[1;33m\u001b[0m\u001b[0m\n",
      "\u001b[1;32m~\\AppData\\Local\\Continuum\\anaconda3\\lib\\site-packages\\joblib\\parallel.py\u001b[0m in \u001b[0;36mdispatch_one_batch\u001b[1;34m(self, iterator)\u001b[0m\n\u001b[0;32m    757\u001b[0m                 \u001b[1;32mreturn\u001b[0m \u001b[1;32mFalse\u001b[0m\u001b[1;33m\u001b[0m\u001b[1;33m\u001b[0m\u001b[0m\n\u001b[0;32m    758\u001b[0m             \u001b[1;32melse\u001b[0m\u001b[1;33m:\u001b[0m\u001b[1;33m\u001b[0m\u001b[1;33m\u001b[0m\u001b[0m\n\u001b[1;32m--> 759\u001b[1;33m                 \u001b[0mself\u001b[0m\u001b[1;33m.\u001b[0m\u001b[0m_dispatch\u001b[0m\u001b[1;33m(\u001b[0m\u001b[0mtasks\u001b[0m\u001b[1;33m)\u001b[0m\u001b[1;33m\u001b[0m\u001b[1;33m\u001b[0m\u001b[0m\n\u001b[0m\u001b[0;32m    760\u001b[0m                 \u001b[1;32mreturn\u001b[0m \u001b[1;32mTrue\u001b[0m\u001b[1;33m\u001b[0m\u001b[1;33m\u001b[0m\u001b[0m\n\u001b[0;32m    761\u001b[0m \u001b[1;33m\u001b[0m\u001b[0m\n",
      "\u001b[1;32m~\\AppData\\Local\\Continuum\\anaconda3\\lib\\site-packages\\joblib\\parallel.py\u001b[0m in \u001b[0;36m_dispatch\u001b[1;34m(self, batch)\u001b[0m\n\u001b[0;32m    714\u001b[0m         \u001b[1;32mwith\u001b[0m \u001b[0mself\u001b[0m\u001b[1;33m.\u001b[0m\u001b[0m_lock\u001b[0m\u001b[1;33m:\u001b[0m\u001b[1;33m\u001b[0m\u001b[1;33m\u001b[0m\u001b[0m\n\u001b[0;32m    715\u001b[0m             \u001b[0mjob_idx\u001b[0m \u001b[1;33m=\u001b[0m \u001b[0mlen\u001b[0m\u001b[1;33m(\u001b[0m\u001b[0mself\u001b[0m\u001b[1;33m.\u001b[0m\u001b[0m_jobs\u001b[0m\u001b[1;33m)\u001b[0m\u001b[1;33m\u001b[0m\u001b[1;33m\u001b[0m\u001b[0m\n\u001b[1;32m--> 716\u001b[1;33m             \u001b[0mjob\u001b[0m \u001b[1;33m=\u001b[0m \u001b[0mself\u001b[0m\u001b[1;33m.\u001b[0m\u001b[0m_backend\u001b[0m\u001b[1;33m.\u001b[0m\u001b[0mapply_async\u001b[0m\u001b[1;33m(\u001b[0m\u001b[0mbatch\u001b[0m\u001b[1;33m,\u001b[0m \u001b[0mcallback\u001b[0m\u001b[1;33m=\u001b[0m\u001b[0mcb\u001b[0m\u001b[1;33m)\u001b[0m\u001b[1;33m\u001b[0m\u001b[1;33m\u001b[0m\u001b[0m\n\u001b[0m\u001b[0;32m    717\u001b[0m             \u001b[1;31m# A job can complete so quickly than its callback is\u001b[0m\u001b[1;33m\u001b[0m\u001b[1;33m\u001b[0m\u001b[1;33m\u001b[0m\u001b[0m\n\u001b[0;32m    718\u001b[0m             \u001b[1;31m# called before we get here, causing self._jobs to\u001b[0m\u001b[1;33m\u001b[0m\u001b[1;33m\u001b[0m\u001b[1;33m\u001b[0m\u001b[0m\n",
      "\u001b[1;32m~\\AppData\\Local\\Continuum\\anaconda3\\lib\\site-packages\\joblib\\_parallel_backends.py\u001b[0m in \u001b[0;36mapply_async\u001b[1;34m(self, func, callback)\u001b[0m\n\u001b[0;32m    180\u001b[0m     \u001b[1;32mdef\u001b[0m \u001b[0mapply_async\u001b[0m\u001b[1;33m(\u001b[0m\u001b[0mself\u001b[0m\u001b[1;33m,\u001b[0m \u001b[0mfunc\u001b[0m\u001b[1;33m,\u001b[0m \u001b[0mcallback\u001b[0m\u001b[1;33m=\u001b[0m\u001b[1;32mNone\u001b[0m\u001b[1;33m)\u001b[0m\u001b[1;33m:\u001b[0m\u001b[1;33m\u001b[0m\u001b[1;33m\u001b[0m\u001b[0m\n\u001b[0;32m    181\u001b[0m         \u001b[1;34m\"\"\"Schedule a func to be run\"\"\"\u001b[0m\u001b[1;33m\u001b[0m\u001b[1;33m\u001b[0m\u001b[0m\n\u001b[1;32m--> 182\u001b[1;33m         \u001b[0mresult\u001b[0m \u001b[1;33m=\u001b[0m \u001b[0mImmediateResult\u001b[0m\u001b[1;33m(\u001b[0m\u001b[0mfunc\u001b[0m\u001b[1;33m)\u001b[0m\u001b[1;33m\u001b[0m\u001b[1;33m\u001b[0m\u001b[0m\n\u001b[0m\u001b[0;32m    183\u001b[0m         \u001b[1;32mif\u001b[0m \u001b[0mcallback\u001b[0m\u001b[1;33m:\u001b[0m\u001b[1;33m\u001b[0m\u001b[1;33m\u001b[0m\u001b[0m\n\u001b[0;32m    184\u001b[0m             \u001b[0mcallback\u001b[0m\u001b[1;33m(\u001b[0m\u001b[0mresult\u001b[0m\u001b[1;33m)\u001b[0m\u001b[1;33m\u001b[0m\u001b[1;33m\u001b[0m\u001b[0m\n",
      "\u001b[1;32m~\\AppData\\Local\\Continuum\\anaconda3\\lib\\site-packages\\joblib\\_parallel_backends.py\u001b[0m in \u001b[0;36m__init__\u001b[1;34m(self, batch)\u001b[0m\n\u001b[0;32m    547\u001b[0m         \u001b[1;31m# Don't delay the application, to avoid keeping the input\u001b[0m\u001b[1;33m\u001b[0m\u001b[1;33m\u001b[0m\u001b[1;33m\u001b[0m\u001b[0m\n\u001b[0;32m    548\u001b[0m         \u001b[1;31m# arguments in memory\u001b[0m\u001b[1;33m\u001b[0m\u001b[1;33m\u001b[0m\u001b[1;33m\u001b[0m\u001b[0m\n\u001b[1;32m--> 549\u001b[1;33m         \u001b[0mself\u001b[0m\u001b[1;33m.\u001b[0m\u001b[0mresults\u001b[0m \u001b[1;33m=\u001b[0m \u001b[0mbatch\u001b[0m\u001b[1;33m(\u001b[0m\u001b[1;33m)\u001b[0m\u001b[1;33m\u001b[0m\u001b[1;33m\u001b[0m\u001b[0m\n\u001b[0m\u001b[0;32m    550\u001b[0m \u001b[1;33m\u001b[0m\u001b[0m\n\u001b[0;32m    551\u001b[0m     \u001b[1;32mdef\u001b[0m \u001b[0mget\u001b[0m\u001b[1;33m(\u001b[0m\u001b[0mself\u001b[0m\u001b[1;33m)\u001b[0m\u001b[1;33m:\u001b[0m\u001b[1;33m\u001b[0m\u001b[1;33m\u001b[0m\u001b[0m\n",
      "\u001b[1;32m~\\AppData\\Local\\Continuum\\anaconda3\\lib\\site-packages\\joblib\\parallel.py\u001b[0m in \u001b[0;36m__call__\u001b[1;34m(self)\u001b[0m\n\u001b[0;32m    223\u001b[0m         \u001b[1;32mwith\u001b[0m \u001b[0mparallel_backend\u001b[0m\u001b[1;33m(\u001b[0m\u001b[0mself\u001b[0m\u001b[1;33m.\u001b[0m\u001b[0m_backend\u001b[0m\u001b[1;33m,\u001b[0m \u001b[0mn_jobs\u001b[0m\u001b[1;33m=\u001b[0m\u001b[0mself\u001b[0m\u001b[1;33m.\u001b[0m\u001b[0m_n_jobs\u001b[0m\u001b[1;33m)\u001b[0m\u001b[1;33m:\u001b[0m\u001b[1;33m\u001b[0m\u001b[1;33m\u001b[0m\u001b[0m\n\u001b[0;32m    224\u001b[0m             return [func(*args, **kwargs)\n\u001b[1;32m--> 225\u001b[1;33m                     for func, args, kwargs in self.items]\n\u001b[0m\u001b[0;32m    226\u001b[0m \u001b[1;33m\u001b[0m\u001b[0m\n\u001b[0;32m    227\u001b[0m     \u001b[1;32mdef\u001b[0m \u001b[0m__len__\u001b[0m\u001b[1;33m(\u001b[0m\u001b[0mself\u001b[0m\u001b[1;33m)\u001b[0m\u001b[1;33m:\u001b[0m\u001b[1;33m\u001b[0m\u001b[1;33m\u001b[0m\u001b[0m\n",
      "\u001b[1;32m~\\AppData\\Local\\Continuum\\anaconda3\\lib\\site-packages\\joblib\\parallel.py\u001b[0m in \u001b[0;36m<listcomp>\u001b[1;34m(.0)\u001b[0m\n\u001b[0;32m    223\u001b[0m         \u001b[1;32mwith\u001b[0m \u001b[0mparallel_backend\u001b[0m\u001b[1;33m(\u001b[0m\u001b[0mself\u001b[0m\u001b[1;33m.\u001b[0m\u001b[0m_backend\u001b[0m\u001b[1;33m,\u001b[0m \u001b[0mn_jobs\u001b[0m\u001b[1;33m=\u001b[0m\u001b[0mself\u001b[0m\u001b[1;33m.\u001b[0m\u001b[0m_n_jobs\u001b[0m\u001b[1;33m)\u001b[0m\u001b[1;33m:\u001b[0m\u001b[1;33m\u001b[0m\u001b[1;33m\u001b[0m\u001b[0m\n\u001b[0;32m    224\u001b[0m             return [func(*args, **kwargs)\n\u001b[1;32m--> 225\u001b[1;33m                     for func, args, kwargs in self.items]\n\u001b[0m\u001b[0;32m    226\u001b[0m \u001b[1;33m\u001b[0m\u001b[0m\n\u001b[0;32m    227\u001b[0m     \u001b[1;32mdef\u001b[0m \u001b[0m__len__\u001b[0m\u001b[1;33m(\u001b[0m\u001b[0mself\u001b[0m\u001b[1;33m)\u001b[0m\u001b[1;33m:\u001b[0m\u001b[1;33m\u001b[0m\u001b[1;33m\u001b[0m\u001b[0m\n",
      "\u001b[1;32m~\\AppData\\Local\\Continuum\\anaconda3\\lib\\site-packages\\sklearn\\model_selection\\_validation.py\u001b[0m in \u001b[0;36m_fit_and_score\u001b[1;34m(estimator, X, y, scorer, train, test, verbose, parameters, fit_params, return_train_score, return_parameters, return_n_test_samples, return_times, return_estimator, error_score)\u001b[0m\n\u001b[0;32m    512\u001b[0m             \u001b[0mestimator\u001b[0m\u001b[1;33m.\u001b[0m\u001b[0mfit\u001b[0m\u001b[1;33m(\u001b[0m\u001b[0mX_train\u001b[0m\u001b[1;33m,\u001b[0m \u001b[1;33m**\u001b[0m\u001b[0mfit_params\u001b[0m\u001b[1;33m)\u001b[0m\u001b[1;33m\u001b[0m\u001b[1;33m\u001b[0m\u001b[0m\n\u001b[0;32m    513\u001b[0m         \u001b[1;32melse\u001b[0m\u001b[1;33m:\u001b[0m\u001b[1;33m\u001b[0m\u001b[1;33m\u001b[0m\u001b[0m\n\u001b[1;32m--> 514\u001b[1;33m             \u001b[0mestimator\u001b[0m\u001b[1;33m.\u001b[0m\u001b[0mfit\u001b[0m\u001b[1;33m(\u001b[0m\u001b[0mX_train\u001b[0m\u001b[1;33m,\u001b[0m \u001b[0my_train\u001b[0m\u001b[1;33m,\u001b[0m \u001b[1;33m**\u001b[0m\u001b[0mfit_params\u001b[0m\u001b[1;33m)\u001b[0m\u001b[1;33m\u001b[0m\u001b[1;33m\u001b[0m\u001b[0m\n\u001b[0m\u001b[0;32m    515\u001b[0m \u001b[1;33m\u001b[0m\u001b[0m\n\u001b[0;32m    516\u001b[0m     \u001b[1;32mexcept\u001b[0m \u001b[0mException\u001b[0m \u001b[1;32mas\u001b[0m \u001b[0me\u001b[0m\u001b[1;33m:\u001b[0m\u001b[1;33m\u001b[0m\u001b[1;33m\u001b[0m\u001b[0m\n",
      "\u001b[1;32m~\\AppData\\Local\\Continuum\\anaconda3\\lib\\site-packages\\xgboost\\sklearn.py\u001b[0m in \u001b[0;36mfit\u001b[1;34m(self, X, y, sample_weight, eval_set, eval_metric, early_stopping_rounds, verbose, xgb_model, sample_weight_eval_set, callbacks)\u001b[0m\n\u001b[0;32m    394\u001b[0m                               \u001b[0mevals_result\u001b[0m\u001b[1;33m=\u001b[0m\u001b[0mevals_result\u001b[0m\u001b[1;33m,\u001b[0m \u001b[0mobj\u001b[0m\u001b[1;33m=\u001b[0m\u001b[0mobj\u001b[0m\u001b[1;33m,\u001b[0m \u001b[0mfeval\u001b[0m\u001b[1;33m=\u001b[0m\u001b[0mfeval\u001b[0m\u001b[1;33m,\u001b[0m\u001b[1;33m\u001b[0m\u001b[1;33m\u001b[0m\u001b[0m\n\u001b[0;32m    395\u001b[0m                               \u001b[0mverbose_eval\u001b[0m\u001b[1;33m=\u001b[0m\u001b[0mverbose\u001b[0m\u001b[1;33m,\u001b[0m \u001b[0mxgb_model\u001b[0m\u001b[1;33m=\u001b[0m\u001b[0mxgb_model\u001b[0m\u001b[1;33m,\u001b[0m\u001b[1;33m\u001b[0m\u001b[1;33m\u001b[0m\u001b[0m\n\u001b[1;32m--> 396\u001b[1;33m                               callbacks=callbacks)\n\u001b[0m\u001b[0;32m    397\u001b[0m \u001b[1;33m\u001b[0m\u001b[0m\n\u001b[0;32m    398\u001b[0m         \u001b[1;32mif\u001b[0m \u001b[0mevals_result\u001b[0m\u001b[1;33m:\u001b[0m\u001b[1;33m\u001b[0m\u001b[1;33m\u001b[0m\u001b[0m\n",
      "\u001b[1;32m~\\AppData\\Local\\Continuum\\anaconda3\\lib\\site-packages\\xgboost\\training.py\u001b[0m in \u001b[0;36mtrain\u001b[1;34m(params, dtrain, num_boost_round, evals, obj, feval, maximize, early_stopping_rounds, evals_result, verbose_eval, xgb_model, callbacks, learning_rates)\u001b[0m\n\u001b[0;32m    214\u001b[0m                            \u001b[0mevals\u001b[0m\u001b[1;33m=\u001b[0m\u001b[0mevals\u001b[0m\u001b[1;33m,\u001b[0m\u001b[1;33m\u001b[0m\u001b[1;33m\u001b[0m\u001b[0m\n\u001b[0;32m    215\u001b[0m                            \u001b[0mobj\u001b[0m\u001b[1;33m=\u001b[0m\u001b[0mobj\u001b[0m\u001b[1;33m,\u001b[0m \u001b[0mfeval\u001b[0m\u001b[1;33m=\u001b[0m\u001b[0mfeval\u001b[0m\u001b[1;33m,\u001b[0m\u001b[1;33m\u001b[0m\u001b[1;33m\u001b[0m\u001b[0m\n\u001b[1;32m--> 216\u001b[1;33m                            xgb_model=xgb_model, callbacks=callbacks)\n\u001b[0m\u001b[0;32m    217\u001b[0m \u001b[1;33m\u001b[0m\u001b[0m\n\u001b[0;32m    218\u001b[0m \u001b[1;33m\u001b[0m\u001b[0m\n",
      "\u001b[1;32m~\\AppData\\Local\\Continuum\\anaconda3\\lib\\site-packages\\xgboost\\training.py\u001b[0m in \u001b[0;36m_train_internal\u001b[1;34m(params, dtrain, num_boost_round, evals, obj, feval, xgb_model, callbacks)\u001b[0m\n\u001b[0;32m     72\u001b[0m         \u001b[1;31m# Skip the first update if it is a recovery step.\u001b[0m\u001b[1;33m\u001b[0m\u001b[1;33m\u001b[0m\u001b[1;33m\u001b[0m\u001b[0m\n\u001b[0;32m     73\u001b[0m         \u001b[1;32mif\u001b[0m \u001b[0mversion\u001b[0m \u001b[1;33m%\u001b[0m \u001b[1;36m2\u001b[0m \u001b[1;33m==\u001b[0m \u001b[1;36m0\u001b[0m\u001b[1;33m:\u001b[0m\u001b[1;33m\u001b[0m\u001b[1;33m\u001b[0m\u001b[0m\n\u001b[1;32m---> 74\u001b[1;33m             \u001b[0mbst\u001b[0m\u001b[1;33m.\u001b[0m\u001b[0mupdate\u001b[0m\u001b[1;33m(\u001b[0m\u001b[0mdtrain\u001b[0m\u001b[1;33m,\u001b[0m \u001b[0mi\u001b[0m\u001b[1;33m,\u001b[0m \u001b[0mobj\u001b[0m\u001b[1;33m)\u001b[0m\u001b[1;33m\u001b[0m\u001b[1;33m\u001b[0m\u001b[0m\n\u001b[0m\u001b[0;32m     75\u001b[0m             \u001b[0mbst\u001b[0m\u001b[1;33m.\u001b[0m\u001b[0msave_rabit_checkpoint\u001b[0m\u001b[1;33m(\u001b[0m\u001b[1;33m)\u001b[0m\u001b[1;33m\u001b[0m\u001b[1;33m\u001b[0m\u001b[0m\n\u001b[0;32m     76\u001b[0m             \u001b[0mversion\u001b[0m \u001b[1;33m+=\u001b[0m \u001b[1;36m1\u001b[0m\u001b[1;33m\u001b[0m\u001b[1;33m\u001b[0m\u001b[0m\n",
      "\u001b[1;32m~\\AppData\\Local\\Continuum\\anaconda3\\lib\\site-packages\\xgboost\\core.py\u001b[0m in \u001b[0;36mupdate\u001b[1;34m(self, dtrain, iteration, fobj)\u001b[0m\n\u001b[0;32m   1107\u001b[0m         \u001b[1;32mif\u001b[0m \u001b[0mfobj\u001b[0m \u001b[1;32mis\u001b[0m \u001b[1;32mNone\u001b[0m\u001b[1;33m:\u001b[0m\u001b[1;33m\u001b[0m\u001b[1;33m\u001b[0m\u001b[0m\n\u001b[0;32m   1108\u001b[0m             _check_call(_LIB.XGBoosterUpdateOneIter(self.handle, ctypes.c_int(iteration),\n\u001b[1;32m-> 1109\u001b[1;33m                                                     dtrain.handle))\n\u001b[0m\u001b[0;32m   1110\u001b[0m         \u001b[1;32melse\u001b[0m\u001b[1;33m:\u001b[0m\u001b[1;33m\u001b[0m\u001b[1;33m\u001b[0m\u001b[0m\n\u001b[0;32m   1111\u001b[0m             \u001b[0mpred\u001b[0m \u001b[1;33m=\u001b[0m \u001b[0mself\u001b[0m\u001b[1;33m.\u001b[0m\u001b[0mpredict\u001b[0m\u001b[1;33m(\u001b[0m\u001b[0mdtrain\u001b[0m\u001b[1;33m)\u001b[0m\u001b[1;33m\u001b[0m\u001b[1;33m\u001b[0m\u001b[0m\n",
      "\u001b[1;31mKeyboardInterrupt\u001b[0m: "
     ]
    }
   ],
   "source": [
    "params = {  \n",
    "    \"n_estimators\": randint(50, 100),\n",
    "    \"max_depth\": randint(5, 10),\n",
    "    \"learning_rate\": [0.05, 0.1, 0.2, 0.3],\n",
    "}\n",
    "\n",
    "# Predict TTL_IB_LT_wghtd\n",
    "# n_iter is number of times to pick things from params\n",
    "# refit = mape means find best (smallest) mape\n",
    "xgbreg = XGBRegressor(base_score = np.mean(df.TTL_IB_LT_wghtd),\\\n",
    "#        objective='reg:linear',\n",
    "                      missing=None,random_state=seed, n_jobs = 4, verbose = 10) \n",
    "xgbrandomsearch = RandomizedSearchCV(xgbreg,params,n_iter=10, scoring=scoring, cv = kfold, refit = 'mape', verbose = 10)  \n",
    "xgbreg.fit(df[df.columns.difference(['TTL_IB_LT_wghtd', 'PILOT_FLG', \\\n",
    "                                              'ORD_ID'])],df.TTL_IB_LT_wghtd)\n",
    "xgbrandomsearch.fit(df[df.columns.difference(['TTL_IB_LT_wghtd', 'PILOT_FLG', \\\n",
    "                                              'ORD_ID'])],df.TTL_IB_LT_wghtd)\n",
    "\n"
   ]
  },
  {
   "cell_type": "code",
   "execution_count": 44,
   "metadata": {},
   "outputs": [
    {
     "ename": "AttributeError",
     "evalue": "'RandomizedSearchCV' object has no attribute 'best_estimator_'",
     "output_type": "error",
     "traceback": [
      "\u001b[1;31m---------------------------------------------------------------------------\u001b[0m",
      "\u001b[1;31mAttributeError\u001b[0m                            Traceback (most recent call last)",
      "\u001b[1;32m<ipython-input-44-476db0c45ba4>\u001b[0m in \u001b[0;36m<module>\u001b[1;34m\u001b[0m\n\u001b[0;32m      1\u001b[0m \u001b[1;31m# Find best model and save resulting predictions to CSV\u001b[0m\u001b[1;33m\u001b[0m\u001b[1;33m\u001b[0m\u001b[1;33m\u001b[0m\u001b[0m\n\u001b[1;32m----> 2\u001b[1;33m \u001b[0mbest_xgb_model\u001b[0m\u001b[1;33m=\u001b[0m \u001b[0mxgbrandomsearch\u001b[0m\u001b[1;33m.\u001b[0m\u001b[0mbest_estimator_\u001b[0m\u001b[1;33m\u001b[0m\u001b[1;33m\u001b[0m\u001b[0m\n\u001b[0m\u001b[0;32m      3\u001b[0m \u001b[1;33m\u001b[0m\u001b[0m\n\u001b[0;32m      4\u001b[0m \u001b[0mdf\u001b[0m\u001b[1;33m[\u001b[0m\u001b[1;34m'predictions'\u001b[0m\u001b[1;33m]\u001b[0m \u001b[1;33m=\u001b[0m \u001b[0mnp\u001b[0m\u001b[1;33m.\u001b[0m\u001b[0mexp\u001b[0m\u001b[1;33m(\u001b[0m \u001b[0mbest_xgb_model\u001b[0m\u001b[1;33m.\u001b[0m\u001b[0mpredict\u001b[0m\u001b[1;33m(\u001b[0m\u001b[0mdf\u001b[0m\u001b[1;33m[\u001b[0m\u001b[0mdf\u001b[0m\u001b[1;33m.\u001b[0m\u001b[0mcolumns\u001b[0m\u001b[1;33m.\u001b[0m\u001b[0mdifference\u001b[0m\u001b[1;33m(\u001b[0m\u001b[1;33m[\u001b[0m\u001b[1;34m'TTL_IB_LT_wghtd'\u001b[0m\u001b[1;33m,\u001b[0m\u001b[1;34m'ORD_ID'\u001b[0m\u001b[1;33m]\u001b[0m\u001b[1;33m)\u001b[0m\u001b[1;33m]\u001b[0m\u001b[1;33m)\u001b[0m  \u001b[1;33m)\u001b[0m\u001b[1;33m/\u001b[0m\u001b[1;33m(\u001b[0m\u001b[1;36m24\u001b[0m\u001b[1;33m*\u001b[0m\u001b[1;36m60\u001b[0m\u001b[1;33m)\u001b[0m\u001b[1;33m\u001b[0m\u001b[1;33m\u001b[0m\u001b[0m\n\u001b[0;32m      5\u001b[0m \u001b[1;31m##df[['ORD_ID','predictions']].to_csv('NO_RDC_' + FW + '_TOTAL.csv', sep='\\t', index = False)  ## change week here\u001b[0m\u001b[1;33m\u001b[0m\u001b[1;33m\u001b[0m\u001b[1;33m\u001b[0m\u001b[0m\n",
      "\u001b[1;31mAttributeError\u001b[0m: 'RandomizedSearchCV' object has no attribute 'best_estimator_'"
     ]
    }
   ],
   "source": [
    "# Find best model and save resulting predictions to CSV\n",
    "best_xgb_model= xgbrandomsearch.best_estimator_\n",
    "\n",
    "df['predictions'] = np.exp( best_xgb_model.predict(df[df.columns.difference(['TTL_IB_LT_wghtd','ORD_ID'])])  )/(24*60)\n",
    "##df[['ORD_ID','predictions']].to_csv('NO_RDC_' + FW + '_TOTAL.csv', sep='\\t', index = False)  ## change week here\n",
    "\n",
    "df2['predictions'] = np.exp( best_xgb_model.predict(df2[df2.columns.difference(['TTL_IB_LT_wghtd','ORD_ID'])])  )/(24*60)\n",
    "##df2[['ORD_ID','predictions']].to_csv('NO_RDC_' + FW + '_FW.csv', sep='\\t', index = False)  ## change week here\n",
    "\n"
   ]
  },
  {
   "cell_type": "code",
   "execution_count": 8,
   "metadata": {},
   "outputs": [],
   "source": [
    "# Also save predictions to BigQuery\n",
    "pandas_gbq.to_gbq(df[['ORD_ID','predictions']], DATASET_NAME + '.NO_RDC_' + FW + '_TOTAL', project_id='analytics-supplychain-thd', if_exists = 'replace')\n",
    "pandas_gbq.to_gbq(df2[['ORD_ID','predictions']], DATASET_NAME + '.NO_RDC_' + FW + '_WK', project_id='analytics-supplychain-thd', if_exists = 'replace')"
   ]
  },
  {
   "cell_type": "code",
   "execution_count": 9,
   "metadata": {},
   "outputs": [],
   "source": [
    "# CAR analysis!!!\n",
    "\n",
    "helluva_query = \"\"\"WITH ML AS (SELECT\n",
    "    MVNDR_NBR,\n",
    "    RDC_NBR,\n",
    "    R.STR_NBR,\n",
    "    FSCL_WK_END_DT,\n",
    "    DC_OUTB_SLTM_DAYS + predictions  AS ML_LT,\n",
    "    DC_OUTB_SLTM_DAYS + TTL_IB_LT_wghtd AS ACT_LT,\n",
    "    DC_OUTB_SLTM_DAYS + MV_OUTB_LTM_QTY AS CAR_LT\n",
    "  FROM\n",
    "    `analytics-supplychain-thd.\"\"\" + DATASET_NAME + \"\"\".NO_RDC_\"\"\" + FW + \"\"\"_WK` A\n",
    "  JOIN\n",
    "    `analytics-supplychain-thd.\"\"\" + DATASET_NAME + \"\"\".TRAINING_SET_FNL` B\n",
    "  ON\n",
    "    A.ORD_ID = B.ORD_ID\n",
    "  JOIN\n",
    "    `analytics-supplychain-thd.AAA_VIEWS.STR_RDC` R\n",
    "  ON\n",
    "    B.RECV_LOC_NBR = R.RDC_NBR\n",
    "  JOIN\n",
    "    `pr-edw-views-thd.SHARED.FSCL_WK_HIER_FD` F\n",
    "  ON\n",
    "    B.FSCL_WK_NBR = F.FSCL_WK_NBR\n",
    "    AND F.FSCL_WK_END_DT > '\"\"\"+ friday +\"\"\"'\n",
    "  JOIN\n",
    "    `pr-edw-views-thd.SCHN_INV.CRE_BUMV_LTM` C\n",
    "  ON\n",
    "    B.MVNDR_NBR = C.CRE_MVNDR_NBR\n",
    "    AND R.STR_NBR = C.STR_NBR\n",
    "    AND F.FSCL_WK_END_DT = C.WK_END_DT),\n",
    "  FL AS (SELECT\n",
    "  DISTINCT MVNDR_NBR,\n",
    "  RECV_LOC_NBR AS RDC_NBR,\n",
    "  COUNT(*) AS HIST_DATA_CNT,\n",
    "  MIN(CASE WHEN FSCL_WK_NBR > \"\"\"+ FW +\"\"\" THEN 201800 + FSCL_WK_NBR ELSE 201900 + FSCL_WK_NBR END) AS FIRST_ORD,\n",
    "  MAX(CASE WHEN FSCL_WK_NBR > \"\"\"+ FW +\"\"\" THEN 201800 + FSCL_WK_NBR ELSE 201900 + FSCL_WK_NBR END) AS LAST_ORD,\n",
    "  MAX(CASE WHEN FSCL_WK_NBR > \"\"\"+ FW +\"\"\" THEN  FSCL_WK_NBR ELSE 52+ FSCL_WK_NBR END) - MIN(CASE WHEN FSCL_WK_NBR > \"\"\"+ FW +\"\"\" THEN  FSCL_WK_NBR ELSE 52 + FSCL_WK_NBR END)+ 1 AS NUM_WEEKS\n",
    "FROM\n",
    "  `analytics-supplychain-thd.\"\"\" + DATASET_NAME + \"\"\".TRAINING_SET_FNL`\n",
    "GROUP BY\n",
    "  1,\n",
    "  2),\n",
    "  \n",
    "CAR_RESULTS AS (SELECT ML.FSCL_WK_END_DT, ML.MVNDR_NBR, ML.RDC_NBR, HIST_DATA_CNT, NUM_WEEKS, ML_LT, ACT_LT, CAR_LT,\n",
    "  SUM((ML_LT + REV_TM_DAYS_CNT)/(LEAD_TM_DAYS + REV_TM_DAYS_CNT) * CURR_RETL_AMT * (LEAD_TM_QTY + REV_TM_QTY)) AS ML_CYCLE,\n",
    "  SUM((ACT_LT + REV_TM_DAYS_CNT)/(LEAD_TM_DAYS + REV_TM_DAYS_CNT) * CURR_RETL_AMT * (LEAD_TM_QTY + REV_TM_QTY)) AS ACT_CYCLE,\n",
    "  SUM((CAR_LT + REV_TM_DAYS_CNT)/(LEAD_TM_DAYS + REV_TM_DAYS_CNT) * CURR_RETL_AMT * (LEAD_TM_QTY + REV_TM_QTY)) AS CAR_CYCLE\n",
    "FROM\n",
    "  ML\n",
    "JOIN\n",
    "  `pr-edw-views-thd.SCHN_INV.CAR_PARM_WKLY` C\n",
    "ON\n",
    "  ML.MVNDR_NBR = C.MVNDR_NBR\n",
    "  AND ML.FSCL_WK_END_DT = C.FSCL_WK_END_DT\n",
    "  AND ML.STR_NBR = C.STR_NBR\n",
    "JOIN FL ON FL.MVNDR_NBR = ML.MVNDR_NBR AND ML.RDC_NBR = FL.RDC_NBR\n",
    "GROUP BY 1,2,3,4,5,6,7,8 ORDER BY FSCL_WK_END_DT),\n",
    "\n",
    "OVER_TIME_AVG AS (SELECT\n",
    "  MVNDR_NBR,\n",
    "  RDC_NBR,\n",
    "  HIST_DATA_CNT,\n",
    "  NUM_WEEKS,\n",
    "  AVG(ML_LT) AS ML_LT,\n",
    "  AVG(ACT_LT) AS ACT_LT,\n",
    "  AVG(CAR_LT) AS CAR_LT,\n",
    "  AVG(ML_CYCLE) AS ML_CYCLE,\n",
    "  AVG(ACT_CYCLE) AS ACT_CYCLE,\n",
    "  AVG(CAR_CYCLE) AS CAR_CYCLE,\n",
    "  AVG(ABS(ML_LT - ACT_LT)/ACT_LT) AS ML_MAPE,\n",
    "  AVG(ABS(CAR_LT - ACT_LT)/ACT_LT) AS CAR_MAPE\n",
    "FROM\n",
    "  CAR_RESULTS\n",
    "GROUP BY\n",
    "  1,\n",
    "  2,\n",
    "  3,\n",
    "  4\n",
    "ORDER BY\n",
    "  1,\n",
    "  2),\n",
    "  \n",
    "AGG AS (SELECT MVNDR_NBR,\n",
    "  RDC_NBR,\n",
    "  HIST_DATA_CNT,\n",
    "  NUM_WEEKS,\n",
    "  AVG(ML_LT) AS ML_LT,\n",
    "  AVG(ACT_LT) AS ACT_LT,\n",
    "  AVG(CAR_LT) AS CAR_LT,\n",
    "   ML_MAPE,\n",
    "   CAR_MAPE,\n",
    "  SUM(ML_CYCLE) AS ML_CYCLE,\n",
    "  SUM(ACT_CYCLE) AS ACT_CYCLE,\n",
    "  SUM(CAR_CYCLE) AS CAR_CYCLE,\n",
    "  (SUM(ML_CYCLE) - SUM(CAR_CYCLE))/SUM(CAR_CYCLE) as PERCENT_DIFF\n",
    "FROM OVER_TIME_AVG\n",
    "GROUP BY 1,2,3,4, ML_MAPE, CAR_MAPE\n",
    "ORDER BY PERCENT_DIFF),\n",
    "\n",
    "\n",
    "FLAGS AS (SELECT\n",
    "  MVNDR_NBR,\n",
    "  RECV_LOC_NBR,\n",
    "  CASE\n",
    "    WHEN AVG(L100_STD_VTT_ACTUAL_LT) > 1 THEN 'HIGH_VTT_VAR'\n",
    "  ELSE\n",
    "  'LOW_VTT_VAR' END\n",
    "  AS STD_DEV_FLG,\n",
    "  CASE WHEN AVG(DIST_km) < 10000 THEN 'SHORT_DIST' ELSE 'LONG_DIST' END AS DISTANCE\n",
    "\n",
    "FROM\n",
    "  `analytics-supplychain-thd.\"\"\" + DATASET_NAME + \"\"\".TRAINING_SET_FNL` A\n",
    "JOIN\n",
    "  `analytics-supplychain-thd.\"\"\" + DATASET_NAME + \"\"\".NO_RDC_\"\"\" + FW + \"\"\"_WK` B\n",
    "ON\n",
    "  A.ORD_ID = B.ORD_ID\n",
    "GROUP BY 1,2)\n",
    "\n",
    "SELECT \n",
    "AGG.MVNDR_NBR,\n",
    "MVNDR_NM,\n",
    "DEPT_NBR,\n",
    "RDC_NBR,\n",
    "HIST_DATA_CNT,\n",
    "CASE WHEN HIST_DATA_CNT >= 25 AND NUM_WEEKS >= 40 THEN 'REGULAR(25+/40+)'\n",
    "            WHEN HIST_DATA_CNT > 8 AND HIST_DATA_CNT < 25 AND NUM_WEEKS > 8 AND NUM_WEEKS < 40 THEN 'EXISTS(8-25/8-40)'\n",
    "            ELSE 'VERY LITTLE(8-/8-)' END AS FIDELITY, \n",
    "            STD_DEV_FLG AS VTT_VAR,\n",
    "            DISTANCE AS DIST_VAR,\n",
    "            AVG(ML_LT) AS ML_LT,\n",
    "            AVG(ACT_LT) AS ACT_LT,\n",
    "            AVG(CAR_LT) AS CAR_LT,\n",
    "            AVG(ML_CYCLE) AS ML_CYCLE,\n",
    "            AVG(ACT_CYCLE) AS ACT_CYCLE,\n",
    "            AVG(CAR_CYCLE) AS CAR_CYCLE,\n",
    "            AVG(ABS(ML_LT - ACT_LT)/ACT_LT) AS ML_MAPE,\n",
    "            AVG(ABS(CAR_LT - ACT_LT)/ACT_LT) AS CAR_MAPE,\n",
    "            AVG(ML_LT - ACT_LT) AS ML_DIFF,\n",
    "            AVG(CAR_LT - ACT_LT) AS CAR_DIFF\n",
    "FROM AGG \n",
    "JOIN FLAGS ON AGG.MVNDR_NBR = FLAGS.MVNDR_NBR AND AGG.RDC_NBR = FLAGS.RECV_LOC_NBR \n",
    "JOIN `pr-edw-views-thd.SHARED.MVNDR_HIER_FD` C ON AGG.MVNDR_NBR = C.MVNDR_NBR\n",
    "GROUP BY 1,2,3,4,5,6,7,8 ORDER BY 1,2\"\"\"\n"
   ]
  },
  {
   "cell_type": "code",
   "execution_count": 10,
   "metadata": {},
   "outputs": [
    {
     "ename": "GenericGBQException",
     "evalue": "Reason: 400 Unrecognized name: DIST_km at [108:17]\n\n(job ID: c02e319d-4e58-424f-9b19-ca4684f00411)\n\n                                                                        -----Query Job SQL Follows-----                                                                        \n\n    |    .    |    .    |    .    |    .    |    .    |    .    |    .    |    .    |    .    |    .    |    .    |    .    |    .    |    .    |    .    |    .    |    .    |\n   1:WITH ML AS (SELECT\n   2:    MVNDR_NBR,\n   3:    RDC_NBR,\n   4:    R.STR_NBR,\n   5:    FSCL_WK_END_DT,\n   6:    DC_OUTB_SLTM_DAYS + predictions  AS ML_LT,\n   7:    DC_OUTB_SLTM_DAYS + TTL_IB_LT_wghtd AS ACT_LT,\n   8:    DC_OUTB_SLTM_DAYS + MV_OUTB_LTM_QTY AS CAR_LT\n   9:  FROM\n  10:    `analytics-supplychain-thd.KVZ_LT_PILOT.NO_RDC_46_WK` A\n  11:  JOIN\n  12:    `analytics-supplychain-thd.KVZ_LT_PILOT.TRAINING_SET_FNL` B\n  13:  ON\n  14:    A.ORD_ID = B.ORD_ID\n  15:  JOIN\n  16:    `analytics-supplychain-thd.AAA_VIEWS.STR_RDC` R\n  17:  ON\n  18:    B.RECV_LOC_NBR = R.RDC_NBR\n  19:  JOIN\n  20:    `pr-edw-views-thd.SHARED.FSCL_WK_HIER_FD` F\n  21:  ON\n  22:    B.FSCL_WK_NBR = F.FSCL_WK_NBR\n  23:    AND F.FSCL_WK_END_DT > '2019-12-13'\n  24:  JOIN\n  25:    `pr-edw-views-thd.SCHN_INV.CRE_BUMV_LTM` C\n  26:  ON\n  27:    B.MVNDR_NBR = C.CRE_MVNDR_NBR\n  28:    AND R.STR_NBR = C.STR_NBR\n  29:    AND F.FSCL_WK_END_DT = C.WK_END_DT),\n  30:  FL AS (SELECT\n  31:  DISTINCT MVNDR_NBR,\n  32:  RECV_LOC_NBR AS RDC_NBR,\n  33:  COUNT(*) AS HIST_DATA_CNT,\n  34:  MIN(CASE WHEN FSCL_WK_NBR > 46 THEN 201800 + FSCL_WK_NBR ELSE 201900 + FSCL_WK_NBR END) AS FIRST_ORD,\n  35:  MAX(CASE WHEN FSCL_WK_NBR > 46 THEN 201800 + FSCL_WK_NBR ELSE 201900 + FSCL_WK_NBR END) AS LAST_ORD,\n  36:  MAX(CASE WHEN FSCL_WK_NBR > 46 THEN  FSCL_WK_NBR ELSE 52+ FSCL_WK_NBR END) - MIN(CASE WHEN FSCL_WK_NBR > 46 THEN  FSCL_WK_NBR ELSE 52 + FSCL_WK_NBR END)+ 1 AS NUM_WEEKS\n  37:FROM\n  38:  `analytics-supplychain-thd.KVZ_LT_PILOT.TRAINING_SET_FNL`\n  39:GROUP BY\n  40:  1,\n  41:  2),\n  42:  \n  43:CAR_RESULTS AS (SELECT ML.FSCL_WK_END_DT, ML.MVNDR_NBR, ML.RDC_NBR, HIST_DATA_CNT, NUM_WEEKS, ML_LT, ACT_LT, CAR_LT,\n  44:  SUM((ML_LT + REV_TM_DAYS_CNT)/(LEAD_TM_DAYS + REV_TM_DAYS_CNT) * CURR_RETL_AMT * (LEAD_TM_QTY + REV_TM_QTY)) AS ML_CYCLE,\n  45:  SUM((ACT_LT + REV_TM_DAYS_CNT)/(LEAD_TM_DAYS + REV_TM_DAYS_CNT) * CURR_RETL_AMT * (LEAD_TM_QTY + REV_TM_QTY)) AS ACT_CYCLE,\n  46:  SUM((CAR_LT + REV_TM_DAYS_CNT)/(LEAD_TM_DAYS + REV_TM_DAYS_CNT) * CURR_RETL_AMT * (LEAD_TM_QTY + REV_TM_QTY)) AS CAR_CYCLE\n  47:FROM\n  48:  ML\n  49:JOIN\n  50:  `pr-edw-views-thd.SCHN_INV.CAR_PARM_WKLY` C\n  51:ON\n  52:  ML.MVNDR_NBR = C.MVNDR_NBR\n  53:  AND ML.FSCL_WK_END_DT = C.FSCL_WK_END_DT\n  54:  AND ML.STR_NBR = C.STR_NBR\n  55:JOIN FL ON FL.MVNDR_NBR = ML.MVNDR_NBR AND ML.RDC_NBR = FL.RDC_NBR\n  56:GROUP BY 1,2,3,4,5,6,7,8 ORDER BY FSCL_WK_END_DT),\n  57:\n  58:OVER_TIME_AVG AS (SELECT\n  59:  MVNDR_NBR,\n  60:  RDC_NBR,\n  61:  HIST_DATA_CNT,\n  62:  NUM_WEEKS,\n  63:  AVG(ML_LT) AS ML_LT,\n  64:  AVG(ACT_LT) AS ACT_LT,\n  65:  AVG(CAR_LT) AS CAR_LT,\n  66:  AVG(ML_CYCLE) AS ML_CYCLE,\n  67:  AVG(ACT_CYCLE) AS ACT_CYCLE,\n  68:  AVG(CAR_CYCLE) AS CAR_CYCLE,\n  69:  AVG(ABS(ML_LT - ACT_LT)/ACT_LT) AS ML_MAPE,\n  70:  AVG(ABS(CAR_LT - ACT_LT)/ACT_LT) AS CAR_MAPE\n  71:FROM\n  72:  CAR_RESULTS\n  73:GROUP BY\n  74:  1,\n  75:  2,\n  76:  3,\n  77:  4\n  78:ORDER BY\n  79:  1,\n  80:  2),\n  81:  \n  82:AGG AS (SELECT MVNDR_NBR,\n  83:  RDC_NBR,\n  84:  HIST_DATA_CNT,\n  85:  NUM_WEEKS,\n  86:  AVG(ML_LT) AS ML_LT,\n  87:  AVG(ACT_LT) AS ACT_LT,\n  88:  AVG(CAR_LT) AS CAR_LT,\n  89:   ML_MAPE,\n  90:   CAR_MAPE,\n  91:  SUM(ML_CYCLE) AS ML_CYCLE,\n  92:  SUM(ACT_CYCLE) AS ACT_CYCLE,\n  93:  SUM(CAR_CYCLE) AS CAR_CYCLE,\n  94:  (SUM(ML_CYCLE) - SUM(CAR_CYCLE))/SUM(CAR_CYCLE) as PERCENT_DIFF\n  95:FROM OVER_TIME_AVG\n  96:GROUP BY 1,2,3,4, ML_MAPE, CAR_MAPE\n  97:ORDER BY PERCENT_DIFF),\n  98:\n  99:\n 100:FLAGS AS (SELECT\n 101:  MVNDR_NBR,\n 102:  RECV_LOC_NBR,\n 103:  CASE\n 104:    WHEN AVG(L100_STD_VTT_ACTUAL_LT) > 1 THEN 'HIGH_VTT_VAR'\n 105:  ELSE\n 106:  'LOW_VTT_VAR' END\n 107:  AS STD_DEV_FLG,\n 108:  CASE WHEN AVG(DIST_km) < 10000 THEN 'SHORT_DIST' ELSE 'LONG_DIST' END AS DISTANCE\n 109:\n 110:FROM\n 111:  `analytics-supplychain-thd.KVZ_LT_PILOT.TRAINING_SET_FNL` A\n 112:JOIN\n 113:  `analytics-supplychain-thd.KVZ_LT_PILOT.NO_RDC_46_WK` B\n 114:ON\n 115:  A.ORD_ID = B.ORD_ID\n 116:GROUP BY 1,2)\n 117:\n 118:SELECT \n 119:AGG.MVNDR_NBR,\n 120:MVNDR_NM,\n 121:DEPT_NBR,\n 122:RDC_NBR,\n 123:HIST_DATA_CNT,\n 124:CASE WHEN HIST_DATA_CNT >= 25 AND NUM_WEEKS >= 40 THEN 'REGULAR(25+/40+)'\n 125:            WHEN HIST_DATA_CNT > 8 AND HIST_DATA_CNT < 25 AND NUM_WEEKS > 8 AND NUM_WEEKS < 40 THEN 'EXISTS(8-25/8-40)'\n 126:            ELSE 'VERY LITTLE(8-/8-)' END AS FIDELITY, \n 127:            STD_DEV_FLG AS VTT_VAR,\n 128:            DISTANCE AS DIST_VAR,\n 129:            AVG(ML_LT) AS ML_LT,\n 130:            AVG(ACT_LT) AS ACT_LT,\n 131:            AVG(CAR_LT) AS CAR_LT,\n 132:            AVG(ML_CYCLE) AS ML_CYCLE,\n 133:            AVG(ACT_CYCLE) AS ACT_CYCLE,\n 134:            AVG(CAR_CYCLE) AS CAR_CYCLE,\n 135:            AVG(ABS(ML_LT - ACT_LT)/ACT_LT) AS ML_MAPE,\n 136:            AVG(ABS(CAR_LT - ACT_LT)/ACT_LT) AS CAR_MAPE,\n 137:            AVG(ML_LT - ACT_LT) AS ML_DIFF,\n 138:            AVG(CAR_LT - ACT_LT) AS CAR_DIFF\n 139:FROM AGG \n 140:JOIN FLAGS ON AGG.MVNDR_NBR = FLAGS.MVNDR_NBR AND AGG.RDC_NBR = FLAGS.RECV_LOC_NBR \n 141:JOIN `pr-edw-views-thd.SHARED.MVNDR_HIER_FD` C ON AGG.MVNDR_NBR = C.MVNDR_NBR\n 142:GROUP BY 1,2,3,4,5,6,7,8 ORDER BY 1,2\n    |    .    |    .    |    .    |    .    |    .    |    .    |    .    |    .    |    .    |    .    |    .    |    .    |    .    |    .    |    .    |    .    |    .    |",
     "output_type": "error",
     "traceback": [
      "\u001b[0;31m---------------------------------------------------------------------------\u001b[0m",
      "\u001b[0;31mBadRequest\u001b[0m                                Traceback (most recent call last)",
      "\u001b[0;32m/opt/conda/lib/python3.6/site-packages/pandas_gbq/gbq.py\u001b[0m in \u001b[0;36m_download_results\u001b[0;34m(self, query_job, max_results, progress_bar_type)\u001b[0m\n\u001b[1;32m    537\u001b[0m \u001b[0;34m\u001b[0m\u001b[0m\n\u001b[0;32m--> 538\u001b[0;31m             \u001b[0mquery_job\u001b[0m\u001b[0;34m.\u001b[0m\u001b[0mresult\u001b[0m\u001b[0;34m(\u001b[0m\u001b[0;34m)\u001b[0m\u001b[0;34m\u001b[0m\u001b[0;34m\u001b[0m\u001b[0m\n\u001b[0m\u001b[1;32m    539\u001b[0m             \u001b[0;31m# Get the table schema, so that we can list rows.\u001b[0m\u001b[0;34m\u001b[0m\u001b[0;34m\u001b[0m\u001b[0;34m\u001b[0m\u001b[0m\n",
      "\u001b[0;32m/opt/conda/lib/python3.6/site-packages/google/cloud/bigquery/job.py\u001b[0m in \u001b[0;36mresult\u001b[0;34m(self, timeout, page_size, retry, max_results)\u001b[0m\n\u001b[1;32m   3123\u001b[0m         \u001b[0;32mtry\u001b[0m\u001b[0;34m:\u001b[0m\u001b[0;34m\u001b[0m\u001b[0;34m\u001b[0m\u001b[0m\n\u001b[0;32m-> 3124\u001b[0;31m             \u001b[0msuper\u001b[0m\u001b[0;34m(\u001b[0m\u001b[0mQueryJob\u001b[0m\u001b[0;34m,\u001b[0m \u001b[0mself\u001b[0m\u001b[0;34m)\u001b[0m\u001b[0;34m.\u001b[0m\u001b[0mresult\u001b[0m\u001b[0;34m(\u001b[0m\u001b[0mtimeout\u001b[0m\u001b[0;34m=\u001b[0m\u001b[0mtimeout\u001b[0m\u001b[0;34m)\u001b[0m\u001b[0;34m\u001b[0m\u001b[0;34m\u001b[0m\u001b[0m\n\u001b[0m\u001b[1;32m   3125\u001b[0m \u001b[0;34m\u001b[0m\u001b[0m\n",
      "\u001b[0;32m/opt/conda/lib/python3.6/site-packages/google/cloud/bigquery/job.py\u001b[0m in \u001b[0;36mresult\u001b[0;34m(self, timeout, retry)\u001b[0m\n\u001b[1;32m    778\u001b[0m         \u001b[0;31m# TODO: modify PollingFuture so it can pass a retry argument to done().\u001b[0m\u001b[0;34m\u001b[0m\u001b[0;34m\u001b[0m\u001b[0;34m\u001b[0m\u001b[0m\n\u001b[0;32m--> 779\u001b[0;31m         \u001b[0;32mreturn\u001b[0m \u001b[0msuper\u001b[0m\u001b[0;34m(\u001b[0m\u001b[0m_AsyncJob\u001b[0m\u001b[0;34m,\u001b[0m \u001b[0mself\u001b[0m\u001b[0;34m)\u001b[0m\u001b[0;34m.\u001b[0m\u001b[0mresult\u001b[0m\u001b[0;34m(\u001b[0m\u001b[0mtimeout\u001b[0m\u001b[0;34m=\u001b[0m\u001b[0mtimeout\u001b[0m\u001b[0;34m)\u001b[0m\u001b[0;34m\u001b[0m\u001b[0;34m\u001b[0m\u001b[0m\n\u001b[0m\u001b[1;32m    780\u001b[0m \u001b[0;34m\u001b[0m\u001b[0m\n",
      "\u001b[0;32m/opt/conda/lib/python3.6/site-packages/google/api_core/future/polling.py\u001b[0m in \u001b[0;36mresult\u001b[0;34m(self, timeout)\u001b[0m\n\u001b[1;32m    126\u001b[0m             \u001b[0;31m# Pylint doesn't recognize that this is valid in this case.\u001b[0m\u001b[0;34m\u001b[0m\u001b[0;34m\u001b[0m\u001b[0;34m\u001b[0m\u001b[0m\n\u001b[0;32m--> 127\u001b[0;31m             \u001b[0;32mraise\u001b[0m \u001b[0mself\u001b[0m\u001b[0;34m.\u001b[0m\u001b[0m_exception\u001b[0m\u001b[0;34m\u001b[0m\u001b[0;34m\u001b[0m\u001b[0m\n\u001b[0m\u001b[1;32m    128\u001b[0m \u001b[0;34m\u001b[0m\u001b[0m\n",
      "\u001b[0;31mBadRequest\u001b[0m: 400 Unrecognized name: DIST_km at [108:17]\n\n(job ID: c02e319d-4e58-424f-9b19-ca4684f00411)\n\n                                                                        -----Query Job SQL Follows-----                                                                        \n\n    |    .    |    .    |    .    |    .    |    .    |    .    |    .    |    .    |    .    |    .    |    .    |    .    |    .    |    .    |    .    |    .    |    .    |\n   1:WITH ML AS (SELECT\n   2:    MVNDR_NBR,\n   3:    RDC_NBR,\n   4:    R.STR_NBR,\n   5:    FSCL_WK_END_DT,\n   6:    DC_OUTB_SLTM_DAYS + predictions  AS ML_LT,\n   7:    DC_OUTB_SLTM_DAYS + TTL_IB_LT_wghtd AS ACT_LT,\n   8:    DC_OUTB_SLTM_DAYS + MV_OUTB_LTM_QTY AS CAR_LT\n   9:  FROM\n  10:    `analytics-supplychain-thd.KVZ_LT_PILOT.NO_RDC_46_WK` A\n  11:  JOIN\n  12:    `analytics-supplychain-thd.KVZ_LT_PILOT.TRAINING_SET_FNL` B\n  13:  ON\n  14:    A.ORD_ID = B.ORD_ID\n  15:  JOIN\n  16:    `analytics-supplychain-thd.AAA_VIEWS.STR_RDC` R\n  17:  ON\n  18:    B.RECV_LOC_NBR = R.RDC_NBR\n  19:  JOIN\n  20:    `pr-edw-views-thd.SHARED.FSCL_WK_HIER_FD` F\n  21:  ON\n  22:    B.FSCL_WK_NBR = F.FSCL_WK_NBR\n  23:    AND F.FSCL_WK_END_DT > '2019-12-13'\n  24:  JOIN\n  25:    `pr-edw-views-thd.SCHN_INV.CRE_BUMV_LTM` C\n  26:  ON\n  27:    B.MVNDR_NBR = C.CRE_MVNDR_NBR\n  28:    AND R.STR_NBR = C.STR_NBR\n  29:    AND F.FSCL_WK_END_DT = C.WK_END_DT),\n  30:  FL AS (SELECT\n  31:  DISTINCT MVNDR_NBR,\n  32:  RECV_LOC_NBR AS RDC_NBR,\n  33:  COUNT(*) AS HIST_DATA_CNT,\n  34:  MIN(CASE WHEN FSCL_WK_NBR > 46 THEN 201800 + FSCL_WK_NBR ELSE 201900 + FSCL_WK_NBR END) AS FIRST_ORD,\n  35:  MAX(CASE WHEN FSCL_WK_NBR > 46 THEN 201800 + FSCL_WK_NBR ELSE 201900 + FSCL_WK_NBR END) AS LAST_ORD,\n  36:  MAX(CASE WHEN FSCL_WK_NBR > 46 THEN  FSCL_WK_NBR ELSE 52+ FSCL_WK_NBR END) - MIN(CASE WHEN FSCL_WK_NBR > 46 THEN  FSCL_WK_NBR ELSE 52 + FSCL_WK_NBR END)+ 1 AS NUM_WEEKS\n  37:FROM\n  38:  `analytics-supplychain-thd.KVZ_LT_PILOT.TRAINING_SET_FNL`\n  39:GROUP BY\n  40:  1,\n  41:  2),\n  42:  \n  43:CAR_RESULTS AS (SELECT ML.FSCL_WK_END_DT, ML.MVNDR_NBR, ML.RDC_NBR, HIST_DATA_CNT, NUM_WEEKS, ML_LT, ACT_LT, CAR_LT,\n  44:  SUM((ML_LT + REV_TM_DAYS_CNT)/(LEAD_TM_DAYS + REV_TM_DAYS_CNT) * CURR_RETL_AMT * (LEAD_TM_QTY + REV_TM_QTY)) AS ML_CYCLE,\n  45:  SUM((ACT_LT + REV_TM_DAYS_CNT)/(LEAD_TM_DAYS + REV_TM_DAYS_CNT) * CURR_RETL_AMT * (LEAD_TM_QTY + REV_TM_QTY)) AS ACT_CYCLE,\n  46:  SUM((CAR_LT + REV_TM_DAYS_CNT)/(LEAD_TM_DAYS + REV_TM_DAYS_CNT) * CURR_RETL_AMT * (LEAD_TM_QTY + REV_TM_QTY)) AS CAR_CYCLE\n  47:FROM\n  48:  ML\n  49:JOIN\n  50:  `pr-edw-views-thd.SCHN_INV.CAR_PARM_WKLY` C\n  51:ON\n  52:  ML.MVNDR_NBR = C.MVNDR_NBR\n  53:  AND ML.FSCL_WK_END_DT = C.FSCL_WK_END_DT\n  54:  AND ML.STR_NBR = C.STR_NBR\n  55:JOIN FL ON FL.MVNDR_NBR = ML.MVNDR_NBR AND ML.RDC_NBR = FL.RDC_NBR\n  56:GROUP BY 1,2,3,4,5,6,7,8 ORDER BY FSCL_WK_END_DT),\n  57:\n  58:OVER_TIME_AVG AS (SELECT\n  59:  MVNDR_NBR,\n  60:  RDC_NBR,\n  61:  HIST_DATA_CNT,\n  62:  NUM_WEEKS,\n  63:  AVG(ML_LT) AS ML_LT,\n  64:  AVG(ACT_LT) AS ACT_LT,\n  65:  AVG(CAR_LT) AS CAR_LT,\n  66:  AVG(ML_CYCLE) AS ML_CYCLE,\n  67:  AVG(ACT_CYCLE) AS ACT_CYCLE,\n  68:  AVG(CAR_CYCLE) AS CAR_CYCLE,\n  69:  AVG(ABS(ML_LT - ACT_LT)/ACT_LT) AS ML_MAPE,\n  70:  AVG(ABS(CAR_LT - ACT_LT)/ACT_LT) AS CAR_MAPE\n  71:FROM\n  72:  CAR_RESULTS\n  73:GROUP BY\n  74:  1,\n  75:  2,\n  76:  3,\n  77:  4\n  78:ORDER BY\n  79:  1,\n  80:  2),\n  81:  \n  82:AGG AS (SELECT MVNDR_NBR,\n  83:  RDC_NBR,\n  84:  HIST_DATA_CNT,\n  85:  NUM_WEEKS,\n  86:  AVG(ML_LT) AS ML_LT,\n  87:  AVG(ACT_LT) AS ACT_LT,\n  88:  AVG(CAR_LT) AS CAR_LT,\n  89:   ML_MAPE,\n  90:   CAR_MAPE,\n  91:  SUM(ML_CYCLE) AS ML_CYCLE,\n  92:  SUM(ACT_CYCLE) AS ACT_CYCLE,\n  93:  SUM(CAR_CYCLE) AS CAR_CYCLE,\n  94:  (SUM(ML_CYCLE) - SUM(CAR_CYCLE))/SUM(CAR_CYCLE) as PERCENT_DIFF\n  95:FROM OVER_TIME_AVG\n  96:GROUP BY 1,2,3,4, ML_MAPE, CAR_MAPE\n  97:ORDER BY PERCENT_DIFF),\n  98:\n  99:\n 100:FLAGS AS (SELECT\n 101:  MVNDR_NBR,\n 102:  RECV_LOC_NBR,\n 103:  CASE\n 104:    WHEN AVG(L100_STD_VTT_ACTUAL_LT) > 1 THEN 'HIGH_VTT_VAR'\n 105:  ELSE\n 106:  'LOW_VTT_VAR' END\n 107:  AS STD_DEV_FLG,\n 108:  CASE WHEN AVG(DIST_km) < 10000 THEN 'SHORT_DIST' ELSE 'LONG_DIST' END AS DISTANCE\n 109:\n 110:FROM\n 111:  `analytics-supplychain-thd.KVZ_LT_PILOT.TRAINING_SET_FNL` A\n 112:JOIN\n 113:  `analytics-supplychain-thd.KVZ_LT_PILOT.NO_RDC_46_WK` B\n 114:ON\n 115:  A.ORD_ID = B.ORD_ID\n 116:GROUP BY 1,2)\n 117:\n 118:SELECT \n 119:AGG.MVNDR_NBR,\n 120:MVNDR_NM,\n 121:DEPT_NBR,\n 122:RDC_NBR,\n 123:HIST_DATA_CNT,\n 124:CASE WHEN HIST_DATA_CNT >= 25 AND NUM_WEEKS >= 40 THEN 'REGULAR(25+/40+)'\n 125:            WHEN HIST_DATA_CNT > 8 AND HIST_DATA_CNT < 25 AND NUM_WEEKS > 8 AND NUM_WEEKS < 40 THEN 'EXISTS(8-25/8-40)'\n 126:            ELSE 'VERY LITTLE(8-/8-)' END AS FIDELITY, \n 127:            STD_DEV_FLG AS VTT_VAR,\n 128:            DISTANCE AS DIST_VAR,\n 129:            AVG(ML_LT) AS ML_LT,\n 130:            AVG(ACT_LT) AS ACT_LT,\n 131:            AVG(CAR_LT) AS CAR_LT,\n 132:            AVG(ML_CYCLE) AS ML_CYCLE,\n 133:            AVG(ACT_CYCLE) AS ACT_CYCLE,\n 134:            AVG(CAR_CYCLE) AS CAR_CYCLE,\n 135:            AVG(ABS(ML_LT - ACT_LT)/ACT_LT) AS ML_MAPE,\n 136:            AVG(ABS(CAR_LT - ACT_LT)/ACT_LT) AS CAR_MAPE,\n 137:            AVG(ML_LT - ACT_LT) AS ML_DIFF,\n 138:            AVG(CAR_LT - ACT_LT) AS CAR_DIFF\n 139:FROM AGG \n 140:JOIN FLAGS ON AGG.MVNDR_NBR = FLAGS.MVNDR_NBR AND AGG.RDC_NBR = FLAGS.RECV_LOC_NBR \n 141:JOIN `pr-edw-views-thd.SHARED.MVNDR_HIER_FD` C ON AGG.MVNDR_NBR = C.MVNDR_NBR\n 142:GROUP BY 1,2,3,4,5,6,7,8 ORDER BY 1,2\n    |    .    |    .    |    .    |    .    |    .    |    .    |    .    |    .    |    .    |    .    |    .    |    .    |    .    |    .    |    .    |    .    |    .    |",
      "\nDuring handling of the above exception, another exception occurred:\n",
      "\u001b[0;31mGenericGBQException\u001b[0m                       Traceback (most recent call last)",
      "\u001b[0;32m<ipython-input-10-2c7a001af4b5>\u001b[0m in \u001b[0;36m<module>\u001b[0;34m\u001b[0m\n\u001b[1;32m      1\u001b[0m \u001b[0;31m# Run CAR analysis and also export to bigquery\u001b[0m\u001b[0;34m\u001b[0m\u001b[0;34m\u001b[0m\u001b[0;34m\u001b[0m\u001b[0m\n\u001b[0;32m----> 2\u001b[0;31m \u001b[0manalysis\u001b[0m \u001b[0;34m=\u001b[0m \u001b[0mpd\u001b[0m\u001b[0;34m.\u001b[0m\u001b[0mread_gbq\u001b[0m\u001b[0;34m(\u001b[0m\u001b[0mhelluva_query\u001b[0m\u001b[0;34m,\u001b[0m \u001b[0;34m'analytics-supplychain-thd'\u001b[0m\u001b[0;34m,\u001b[0m \u001b[0mdialect\u001b[0m \u001b[0;34m=\u001b[0m \u001b[0;34m'standard'\u001b[0m\u001b[0;34m)\u001b[0m\u001b[0;34m\u001b[0m\u001b[0;34m\u001b[0m\u001b[0m\n\u001b[0m\u001b[1;32m      3\u001b[0m \u001b[0manalysis\u001b[0m\u001b[0;34m.\u001b[0m\u001b[0mto_csv\u001b[0m\u001b[0;34m(\u001b[0m\u001b[0;34m'NO_RDC_'\u001b[0m \u001b[0;34m+\u001b[0m \u001b[0mFW\u001b[0m \u001b[0;34m+\u001b[0m \u001b[0;34m'_WK_ANALYSIS.csv'\u001b[0m\u001b[0;34m,\u001b[0m \u001b[0msep\u001b[0m\u001b[0;34m=\u001b[0m\u001b[0;34m','\u001b[0m\u001b[0;34m,\u001b[0m \u001b[0mindex\u001b[0m \u001b[0;34m=\u001b[0m \u001b[0;32mFalse\u001b[0m\u001b[0;34m)\u001b[0m\u001b[0;34m\u001b[0m\u001b[0;34m\u001b[0m\u001b[0m\n\u001b[1;32m      4\u001b[0m \u001b[0mpandas_gbq\u001b[0m\u001b[0;34m.\u001b[0m\u001b[0mto_gbq\u001b[0m\u001b[0;34m(\u001b[0m\u001b[0manalysis\u001b[0m\u001b[0;34m,\u001b[0m \u001b[0mDATASET_NAME\u001b[0m \u001b[0;34m+\u001b[0m \u001b[0;34m'.NO_RDC_'\u001b[0m \u001b[0;34m+\u001b[0m \u001b[0mFW\u001b[0m \u001b[0;34m+\u001b[0m \u001b[0;34m'_WK_ANALYSIS'\u001b[0m\u001b[0;34m,\u001b[0m \u001b[0mproject_id\u001b[0m\u001b[0;34m=\u001b[0m\u001b[0;34m'analytics-supplychain-thd'\u001b[0m\u001b[0;34m,\u001b[0m \u001b[0mif_exists\u001b[0m \u001b[0;34m=\u001b[0m \u001b[0;34m'replace'\u001b[0m\u001b[0;34m)\u001b[0m\u001b[0;34m\u001b[0m\u001b[0;34m\u001b[0m\u001b[0m\n",
      "\u001b[0;32m/opt/conda/lib/python3.6/site-packages/pandas/io/gbq.py\u001b[0m in \u001b[0;36mread_gbq\u001b[0;34m(query, project_id, index_col, col_order, reauth, verbose, private_key, dialect, **kwargs)\u001b[0m\n\u001b[1;32m    106\u001b[0m         \u001b[0mprivate_key\u001b[0m\u001b[0;34m=\u001b[0m\u001b[0mprivate_key\u001b[0m\u001b[0;34m,\u001b[0m\u001b[0;34m\u001b[0m\u001b[0;34m\u001b[0m\u001b[0m\n\u001b[1;32m    107\u001b[0m         \u001b[0mdialect\u001b[0m\u001b[0;34m=\u001b[0m\u001b[0mdialect\u001b[0m\u001b[0;34m,\u001b[0m\u001b[0;34m\u001b[0m\u001b[0;34m\u001b[0m\u001b[0m\n\u001b[0;32m--> 108\u001b[0;31m         **kwargs)\n\u001b[0m\u001b[1;32m    109\u001b[0m \u001b[0;34m\u001b[0m\u001b[0m\n\u001b[1;32m    110\u001b[0m \u001b[0;34m\u001b[0m\u001b[0m\n",
      "\u001b[0;32m/opt/conda/lib/python3.6/site-packages/pandas_gbq/gbq.py\u001b[0m in \u001b[0;36mread_gbq\u001b[0;34m(query, project_id, index_col, col_order, reauth, auth_local_webserver, dialect, location, configuration, credentials, use_bqstorage_api, max_results, verbose, private_key, progress_bar_type)\u001b[0m\n\u001b[1;32m   1011\u001b[0m         \u001b[0mconfiguration\u001b[0m\u001b[0;34m=\u001b[0m\u001b[0mconfiguration\u001b[0m\u001b[0;34m,\u001b[0m\u001b[0;34m\u001b[0m\u001b[0;34m\u001b[0m\u001b[0m\n\u001b[1;32m   1012\u001b[0m         \u001b[0mmax_results\u001b[0m\u001b[0;34m=\u001b[0m\u001b[0mmax_results\u001b[0m\u001b[0;34m,\u001b[0m\u001b[0;34m\u001b[0m\u001b[0;34m\u001b[0m\u001b[0m\n\u001b[0;32m-> 1013\u001b[0;31m         \u001b[0mprogress_bar_type\u001b[0m\u001b[0;34m=\u001b[0m\u001b[0mprogress_bar_type\u001b[0m\u001b[0;34m,\u001b[0m\u001b[0;34m\u001b[0m\u001b[0;34m\u001b[0m\u001b[0m\n\u001b[0m\u001b[1;32m   1014\u001b[0m     )\n\u001b[1;32m   1015\u001b[0m \u001b[0;34m\u001b[0m\u001b[0m\n",
      "\u001b[0;32m/opt/conda/lib/python3.6/site-packages/pandas_gbq/gbq.py\u001b[0m in \u001b[0;36mrun_query\u001b[0;34m(self, query, max_results, progress_bar_type, **kwargs)\u001b[0m\n\u001b[1;32m    518\u001b[0m             \u001b[0mquery_reply\u001b[0m\u001b[0;34m,\u001b[0m\u001b[0;34m\u001b[0m\u001b[0;34m\u001b[0m\u001b[0m\n\u001b[1;32m    519\u001b[0m             \u001b[0mmax_results\u001b[0m\u001b[0;34m=\u001b[0m\u001b[0mmax_results\u001b[0m\u001b[0;34m,\u001b[0m\u001b[0;34m\u001b[0m\u001b[0;34m\u001b[0m\u001b[0m\n\u001b[0;32m--> 520\u001b[0;31m             \u001b[0mprogress_bar_type\u001b[0m\u001b[0;34m=\u001b[0m\u001b[0mprogress_bar_type\u001b[0m\u001b[0;34m,\u001b[0m\u001b[0;34m\u001b[0m\u001b[0;34m\u001b[0m\u001b[0m\n\u001b[0m\u001b[1;32m    521\u001b[0m         )\n\u001b[1;32m    522\u001b[0m \u001b[0;34m\u001b[0m\u001b[0m\n",
      "\u001b[0;32m/opt/conda/lib/python3.6/site-packages/pandas_gbq/gbq.py\u001b[0m in \u001b[0;36m_download_results\u001b[0;34m(self, query_job, max_results, progress_bar_type)\u001b[0m\n\u001b[1;32m    551\u001b[0m             )\n\u001b[1;32m    552\u001b[0m         \u001b[0;32mexcept\u001b[0m \u001b[0mself\u001b[0m\u001b[0;34m.\u001b[0m\u001b[0mhttp_error\u001b[0m \u001b[0;32mas\u001b[0m \u001b[0mex\u001b[0m\u001b[0;34m:\u001b[0m\u001b[0;34m\u001b[0m\u001b[0;34m\u001b[0m\u001b[0m\n\u001b[0;32m--> 553\u001b[0;31m             \u001b[0mself\u001b[0m\u001b[0;34m.\u001b[0m\u001b[0mprocess_http_error\u001b[0m\u001b[0;34m(\u001b[0m\u001b[0mex\u001b[0m\u001b[0;34m)\u001b[0m\u001b[0;34m\u001b[0m\u001b[0;34m\u001b[0m\u001b[0m\n\u001b[0m\u001b[1;32m    554\u001b[0m         \u001b[0;32mfinally\u001b[0m\u001b[0;34m:\u001b[0m\u001b[0;34m\u001b[0m\u001b[0;34m\u001b[0m\u001b[0m\n\u001b[1;32m    555\u001b[0m             \u001b[0;32mif\u001b[0m \u001b[0mbqstorage_client\u001b[0m\u001b[0;34m:\u001b[0m\u001b[0;34m\u001b[0m\u001b[0;34m\u001b[0m\u001b[0m\n",
      "\u001b[0;32m/opt/conda/lib/python3.6/site-packages/pandas_gbq/gbq.py\u001b[0m in \u001b[0;36mprocess_http_error\u001b[0;34m(ex)\u001b[0m\n\u001b[1;32m    421\u001b[0m         \u001b[0;31m# <https://cloud.google.com/bigquery/troubleshooting-errors>`__\u001b[0m\u001b[0;34m\u001b[0m\u001b[0;34m\u001b[0m\u001b[0;34m\u001b[0m\u001b[0m\n\u001b[1;32m    422\u001b[0m \u001b[0;34m\u001b[0m\u001b[0m\n\u001b[0;32m--> 423\u001b[0;31m         \u001b[0;32mraise\u001b[0m \u001b[0mGenericGBQException\u001b[0m\u001b[0;34m(\u001b[0m\u001b[0;34m\"Reason: {0}\"\u001b[0m\u001b[0;34m.\u001b[0m\u001b[0mformat\u001b[0m\u001b[0;34m(\u001b[0m\u001b[0mex\u001b[0m\u001b[0;34m)\u001b[0m\u001b[0;34m)\u001b[0m\u001b[0;34m\u001b[0m\u001b[0;34m\u001b[0m\u001b[0m\n\u001b[0m\u001b[1;32m    424\u001b[0m \u001b[0;34m\u001b[0m\u001b[0m\n\u001b[1;32m    425\u001b[0m     def run_query(\n",
      "\u001b[0;31mGenericGBQException\u001b[0m: Reason: 400 Unrecognized name: DIST_km at [108:17]\n\n(job ID: c02e319d-4e58-424f-9b19-ca4684f00411)\n\n                                                                        -----Query Job SQL Follows-----                                                                        \n\n    |    .    |    .    |    .    |    .    |    .    |    .    |    .    |    .    |    .    |    .    |    .    |    .    |    .    |    .    |    .    |    .    |    .    |\n   1:WITH ML AS (SELECT\n   2:    MVNDR_NBR,\n   3:    RDC_NBR,\n   4:    R.STR_NBR,\n   5:    FSCL_WK_END_DT,\n   6:    DC_OUTB_SLTM_DAYS + predictions  AS ML_LT,\n   7:    DC_OUTB_SLTM_DAYS + TTL_IB_LT_wghtd AS ACT_LT,\n   8:    DC_OUTB_SLTM_DAYS + MV_OUTB_LTM_QTY AS CAR_LT\n   9:  FROM\n  10:    `analytics-supplychain-thd.KVZ_LT_PILOT.NO_RDC_46_WK` A\n  11:  JOIN\n  12:    `analytics-supplychain-thd.KVZ_LT_PILOT.TRAINING_SET_FNL` B\n  13:  ON\n  14:    A.ORD_ID = B.ORD_ID\n  15:  JOIN\n  16:    `analytics-supplychain-thd.AAA_VIEWS.STR_RDC` R\n  17:  ON\n  18:    B.RECV_LOC_NBR = R.RDC_NBR\n  19:  JOIN\n  20:    `pr-edw-views-thd.SHARED.FSCL_WK_HIER_FD` F\n  21:  ON\n  22:    B.FSCL_WK_NBR = F.FSCL_WK_NBR\n  23:    AND F.FSCL_WK_END_DT > '2019-12-13'\n  24:  JOIN\n  25:    `pr-edw-views-thd.SCHN_INV.CRE_BUMV_LTM` C\n  26:  ON\n  27:    B.MVNDR_NBR = C.CRE_MVNDR_NBR\n  28:    AND R.STR_NBR = C.STR_NBR\n  29:    AND F.FSCL_WK_END_DT = C.WK_END_DT),\n  30:  FL AS (SELECT\n  31:  DISTINCT MVNDR_NBR,\n  32:  RECV_LOC_NBR AS RDC_NBR,\n  33:  COUNT(*) AS HIST_DATA_CNT,\n  34:  MIN(CASE WHEN FSCL_WK_NBR > 46 THEN 201800 + FSCL_WK_NBR ELSE 201900 + FSCL_WK_NBR END) AS FIRST_ORD,\n  35:  MAX(CASE WHEN FSCL_WK_NBR > 46 THEN 201800 + FSCL_WK_NBR ELSE 201900 + FSCL_WK_NBR END) AS LAST_ORD,\n  36:  MAX(CASE WHEN FSCL_WK_NBR > 46 THEN  FSCL_WK_NBR ELSE 52+ FSCL_WK_NBR END) - MIN(CASE WHEN FSCL_WK_NBR > 46 THEN  FSCL_WK_NBR ELSE 52 + FSCL_WK_NBR END)+ 1 AS NUM_WEEKS\n  37:FROM\n  38:  `analytics-supplychain-thd.KVZ_LT_PILOT.TRAINING_SET_FNL`\n  39:GROUP BY\n  40:  1,\n  41:  2),\n  42:  \n  43:CAR_RESULTS AS (SELECT ML.FSCL_WK_END_DT, ML.MVNDR_NBR, ML.RDC_NBR, HIST_DATA_CNT, NUM_WEEKS, ML_LT, ACT_LT, CAR_LT,\n  44:  SUM((ML_LT + REV_TM_DAYS_CNT)/(LEAD_TM_DAYS + REV_TM_DAYS_CNT) * CURR_RETL_AMT * (LEAD_TM_QTY + REV_TM_QTY)) AS ML_CYCLE,\n  45:  SUM((ACT_LT + REV_TM_DAYS_CNT)/(LEAD_TM_DAYS + REV_TM_DAYS_CNT) * CURR_RETL_AMT * (LEAD_TM_QTY + REV_TM_QTY)) AS ACT_CYCLE,\n  46:  SUM((CAR_LT + REV_TM_DAYS_CNT)/(LEAD_TM_DAYS + REV_TM_DAYS_CNT) * CURR_RETL_AMT * (LEAD_TM_QTY + REV_TM_QTY)) AS CAR_CYCLE\n  47:FROM\n  48:  ML\n  49:JOIN\n  50:  `pr-edw-views-thd.SCHN_INV.CAR_PARM_WKLY` C\n  51:ON\n  52:  ML.MVNDR_NBR = C.MVNDR_NBR\n  53:  AND ML.FSCL_WK_END_DT = C.FSCL_WK_END_DT\n  54:  AND ML.STR_NBR = C.STR_NBR\n  55:JOIN FL ON FL.MVNDR_NBR = ML.MVNDR_NBR AND ML.RDC_NBR = FL.RDC_NBR\n  56:GROUP BY 1,2,3,4,5,6,7,8 ORDER BY FSCL_WK_END_DT),\n  57:\n  58:OVER_TIME_AVG AS (SELECT\n  59:  MVNDR_NBR,\n  60:  RDC_NBR,\n  61:  HIST_DATA_CNT,\n  62:  NUM_WEEKS,\n  63:  AVG(ML_LT) AS ML_LT,\n  64:  AVG(ACT_LT) AS ACT_LT,\n  65:  AVG(CAR_LT) AS CAR_LT,\n  66:  AVG(ML_CYCLE) AS ML_CYCLE,\n  67:  AVG(ACT_CYCLE) AS ACT_CYCLE,\n  68:  AVG(CAR_CYCLE) AS CAR_CYCLE,\n  69:  AVG(ABS(ML_LT - ACT_LT)/ACT_LT) AS ML_MAPE,\n  70:  AVG(ABS(CAR_LT - ACT_LT)/ACT_LT) AS CAR_MAPE\n  71:FROM\n  72:  CAR_RESULTS\n  73:GROUP BY\n  74:  1,\n  75:  2,\n  76:  3,\n  77:  4\n  78:ORDER BY\n  79:  1,\n  80:  2),\n  81:  \n  82:AGG AS (SELECT MVNDR_NBR,\n  83:  RDC_NBR,\n  84:  HIST_DATA_CNT,\n  85:  NUM_WEEKS,\n  86:  AVG(ML_LT) AS ML_LT,\n  87:  AVG(ACT_LT) AS ACT_LT,\n  88:  AVG(CAR_LT) AS CAR_LT,\n  89:   ML_MAPE,\n  90:   CAR_MAPE,\n  91:  SUM(ML_CYCLE) AS ML_CYCLE,\n  92:  SUM(ACT_CYCLE) AS ACT_CYCLE,\n  93:  SUM(CAR_CYCLE) AS CAR_CYCLE,\n  94:  (SUM(ML_CYCLE) - SUM(CAR_CYCLE))/SUM(CAR_CYCLE) as PERCENT_DIFF\n  95:FROM OVER_TIME_AVG\n  96:GROUP BY 1,2,3,4, ML_MAPE, CAR_MAPE\n  97:ORDER BY PERCENT_DIFF),\n  98:\n  99:\n 100:FLAGS AS (SELECT\n 101:  MVNDR_NBR,\n 102:  RECV_LOC_NBR,\n 103:  CASE\n 104:    WHEN AVG(L100_STD_VTT_ACTUAL_LT) > 1 THEN 'HIGH_VTT_VAR'\n 105:  ELSE\n 106:  'LOW_VTT_VAR' END\n 107:  AS STD_DEV_FLG,\n 108:  CASE WHEN AVG(DIST_km) < 10000 THEN 'SHORT_DIST' ELSE 'LONG_DIST' END AS DISTANCE\n 109:\n 110:FROM\n 111:  `analytics-supplychain-thd.KVZ_LT_PILOT.TRAINING_SET_FNL` A\n 112:JOIN\n 113:  `analytics-supplychain-thd.KVZ_LT_PILOT.NO_RDC_46_WK` B\n 114:ON\n 115:  A.ORD_ID = B.ORD_ID\n 116:GROUP BY 1,2)\n 117:\n 118:SELECT \n 119:AGG.MVNDR_NBR,\n 120:MVNDR_NM,\n 121:DEPT_NBR,\n 122:RDC_NBR,\n 123:HIST_DATA_CNT,\n 124:CASE WHEN HIST_DATA_CNT >= 25 AND NUM_WEEKS >= 40 THEN 'REGULAR(25+/40+)'\n 125:            WHEN HIST_DATA_CNT > 8 AND HIST_DATA_CNT < 25 AND NUM_WEEKS > 8 AND NUM_WEEKS < 40 THEN 'EXISTS(8-25/8-40)'\n 126:            ELSE 'VERY LITTLE(8-/8-)' END AS FIDELITY, \n 127:            STD_DEV_FLG AS VTT_VAR,\n 128:            DISTANCE AS DIST_VAR,\n 129:            AVG(ML_LT) AS ML_LT,\n 130:            AVG(ACT_LT) AS ACT_LT,\n 131:            AVG(CAR_LT) AS CAR_LT,\n 132:            AVG(ML_CYCLE) AS ML_CYCLE,\n 133:            AVG(ACT_CYCLE) AS ACT_CYCLE,\n 134:            AVG(CAR_CYCLE) AS CAR_CYCLE,\n 135:            AVG(ABS(ML_LT - ACT_LT)/ACT_LT) AS ML_MAPE,\n 136:            AVG(ABS(CAR_LT - ACT_LT)/ACT_LT) AS CAR_MAPE,\n 137:            AVG(ML_LT - ACT_LT) AS ML_DIFF,\n 138:            AVG(CAR_LT - ACT_LT) AS CAR_DIFF\n 139:FROM AGG \n 140:JOIN FLAGS ON AGG.MVNDR_NBR = FLAGS.MVNDR_NBR AND AGG.RDC_NBR = FLAGS.RECV_LOC_NBR \n 141:JOIN `pr-edw-views-thd.SHARED.MVNDR_HIER_FD` C ON AGG.MVNDR_NBR = C.MVNDR_NBR\n 142:GROUP BY 1,2,3,4,5,6,7,8 ORDER BY 1,2\n    |    .    |    .    |    .    |    .    |    .    |    .    |    .    |    .    |    .    |    .    |    .    |    .    |    .    |    .    |    .    |    .    |    .    |"
     ]
    }
   ],
   "source": [
    "# Run CAR analysis and also export to bigquery\n",
    "analysis = pd.read_gbq(helluva_query, 'analytics-supplychain-thd', dialect = 'standard')\n",
    "analysis.to_csv('NO_RDC_' + FW + '_WK_ANALYSIS.csv', sep=',', index = False)\n",
    "pandas_gbq.to_gbq(analysis, DATASET_NAME + '.NO_RDC_' + FW + '_WK_ANALYSIS', project_id='analytics-supplychain-thd', if_exists = 'replace')"
   ]
  },
  {
   "cell_type": "code",
   "execution_count": null,
   "metadata": {},
   "outputs": [],
   "source": []
  },
  {
   "cell_type": "code",
   "execution_count": null,
   "metadata": {},
   "outputs": [],
   "source": []
  },
  {
   "cell_type": "code",
   "execution_count": null,
   "metadata": {},
   "outputs": [],
   "source": []
  },
  {
   "cell_type": "code",
   "execution_count": null,
   "metadata": {},
   "outputs": [],
   "source": []
  },
  {
   "cell_type": "code",
   "execution_count": null,
   "metadata": {},
   "outputs": [],
   "source": []
  },
  {
   "cell_type": "code",
   "execution_count": null,
   "metadata": {},
   "outputs": [],
   "source": []
  },
  {
   "cell_type": "code",
   "execution_count": null,
   "metadata": {},
   "outputs": [],
   "source": []
  },
  {
   "cell_type": "code",
   "execution_count": null,
   "metadata": {},
   "outputs": [],
   "source": [
    "\n"
   ]
  },
  {
   "cell_type": "code",
   "execution_count": null,
   "metadata": {},
   "outputs": [],
   "source": [
    "pip install pandas_gbq"
   ]
  },
  {
   "cell_type": "code",
   "execution_count": null,
   "metadata": {},
   "outputs": [],
   "source": [
    "pip install --upgrade google-cloud-bigquery"
   ]
  },
  {
   "cell_type": "code",
   "execution_count": null,
   "metadata": {},
   "outputs": [],
   "source": [
    "pip install --upgrade six"
   ]
  },
  {
   "cell_type": "code",
   "execution_count": null,
   "metadata": {},
   "outputs": [],
   "source": []
  }
 ],
 "metadata": {
  "kernelspec": {
   "display_name": "Python 3",
   "language": "python",
   "name": "python3"
  },
  "language_info": {
   "codemirror_mode": {
    "name": "ipython",
    "version": 3
   },
   "file_extension": ".py",
   "mimetype": "text/x-python",
   "name": "python",
   "nbconvert_exporter": "python",
   "pygments_lexer": "ipython3",
   "version": "3.7.3"
  }
 },
 "nbformat": 4,
 "nbformat_minor": 2
}
