{
 "cells": [
  {
   "cell_type": "code",
   "execution_count": 19,
   "metadata": {},
   "outputs": [],
   "source": [
    "import pandas as pd\n",
    "import numpy as np\n",
    "import os\n",
    "import smtplib\n",
    "# import mimetypes\n",
    "# from email import encoders\n",
    "# from email.mime.audio import MIMEAudio\n",
    "# from email.mime.base import MIMEBase\n",
    "# from email.mime.image import MIMEImage\n",
    "# from email.mime.multipart import MIMEMultipart\n",
    "# from email.mime.text import MIMEText"
   ]
  },
  {
   "cell_type": "code",
   "execution_count": 20,
   "metadata": {},
   "outputs": [],
   "source": [
    "from openpyxl import load_workbook"
   ]
  },
  {
   "cell_type": "code",
   "execution_count": 21,
   "metadata": {},
   "outputs": [],
   "source": [
    "URL = r\"\\\\at2a5\\vol4\\DEPTS\\TRAFFIC\\PROJECTS\\SCD\\Supply Chain Analytics\\Projects\\BULK Min Procedure (DO NOT DELETE - Nirjhar Raina)\\Investment Report\\Bulk investment reports\\BULK INVESTMENT REPORT 5-11-2020 (FW15).xlsx\""
   ]
  },
  {
   "cell_type": "code",
   "execution_count": 24,
   "metadata": {
    "scrolled": true
   },
   "outputs": [
    {
     "name": "stdout",
     "output_type": "stream",
     "text": [
      "['Dept', 'Net Impact of Bulk Changes EFF this WK', 'CURR Bulk Contribution to SYSMOHQ', ' New Bulk Contribution to SYSMOHQ ', 'None', '21', '57907.16781993', '6608026.728314498', '6665933.896134428', 'None', '22', '42833.531958', '12846234.78630071', '12889068.318258712', 'None', '24', '21.94', '852726.8312102789', '852748.771210279', 'None', '27', '20561.42267932001', '8354384.384553242', '8375889.500501822', 'None', '30', '0', '703283.9551331698', '703283.9551331698', 'None', '23F', '159.94', '1496966.8893374812', '1497126.8293374812', 'None', '25H', '934.63627878', '1617153.5976921471', '1618088.2339709273', 'None', '25T', '1163.94', '953682.5590972246', '954846.4990972246', 'None', '26P', '1799.576356', '1448734.761957381', '1450798.123504431', 'None', '28I', '16.16', '506102.9995097194', '506119.15950971935', 'None', '28O', '0', '60376.302704969996', '60376.302704969996', 'None', '29A', '558', '18684.85138862', '19242.85138862', 'None', '29B', '59038.666289159846', '338081.63740903896', '397120.30369819887', 'None', '59S', '1271.5520325599998', '25144.597385169996', '26416.14941772999', 'None', 'Grand Total', '186266.53341374986', '35829584.881993644', '36017058.89386771', 'None', 'None', 'None', 'None', 'None', 'None', 'None', 'None', 'None', 'None', 'None', 'None', 'None', 'None', 'None', 'None', 'None', 'None', 'None', 'None', 'None', 'None', 'None', 'None', 'None', 'None', 'None', 'None', 'None', 'None', 'None', 'None', 'None', 'None', 'None', 'None', 'None', 'None', 'None', 'None', 'None', 'None', 'None', 'None', 'None', 'None', 'None', 'None', 'None', 'None', 'None', 'None', 'None', 'None', 'None', 'None', 'None', 'None', 'None', 'None', 'None', 'None', 'None', 'None', 'None', 'None', 'None', 'None', 'None', 'None', 'None', 'None', 'None', 'None', 'None', 'None', 'None', 'None', 'None', 'None', 'None', 'None', 'None', 'None', 'None', 'None', 'None', 'None', 'None', 'None', 'None', 'None', 'None', 'None', 'None', 'None', 'None', 'None', 'None', 'None', 'None', 'None', 'None', 'None', 'None', 'None', 'None', 'None', 'None', 'None', 'None', 'None', 'None', 'None', 'None', 'None', 'None', 'None', 'None', 'None', 'None', 'None', 'None', 'None', 'None', 'None', 'None', 'None', 'None', 'None', 'None', 'None', 'None', 'None', 'None', 'None', 'None', 'None', 'None', 'None', 'None', 'None', 'None', 'None', 'None', 'None', 'None', 'None', 'None', 'None', 'None', 'None', 'None', 'None', 'None', 'None', 'None', 'None', 'None', 'None', 'None', 'None', 'None', 'None', 'None', 'None', 'None', 'None', 'None', 'None', 'None', 'None', 'None', 'None', 'None', 'None', 'None', 'None', 'None', 'None', 'None', 'None', 'None', 'None', 'None', 'None', 'None', 'None', 'None', 'None', 'None', 'None', 'None', 'None', 'None', 'None', 'None', 'None', 'None', 'None', 'None', 'None', 'None', 'None', 'None', 'None', 'None', 'None', 'None', 'None', 'None', 'None', 'None', 'None', 'None', 'None', 'None', 'None', 'None', 'None', 'None', 'None', 'None', 'None', 'None', 'None', 'None', 'None', 'None', 'None', 'None', 'None', 'None', 'None', 'None', 'None', 'None', 'None', 'None', 'None', 'None', 'None', 'None', 'None', 'None', 'None', 'None', 'None', 'None', 'None', 'None', 'None', 'None', 'None', 'None', 'None', 'None', 'None', 'None', 'None', 'None', 'None', 'None', 'None', 'None', 'None', 'None', 'None', 'None', 'None', 'None', 'None', 'None', 'None', 'None', 'None', 'None', 'None', 'None', 'None', 'None', 'None', 'None', 'None', 'None', 'None', 'None', 'None', 'None', 'None', 'None', 'None', 'None', 'None', 'None', 'None', 'None', 'None', 'None', 'None', 'None', 'None', 'None', 'None', 'None', 'None', 'None', 'None', 'None', 'None', 'None', 'None', 'None', 'None', 'None', 'None', 'None', 'None', 'None', 'None', 'None', 'None', 'None', 'None', 'None', 'None', 'None', 'None', 'None', 'None', 'None', 'None', 'None', 'None', 'None', 'None', 'None', 'None', 'None', 'None', 'None', 'None', 'None', 'None', 'None', 'None', 'None', 'None', 'None', 'None', 'None', 'None', 'None', 'None', 'None', 'None', 'None', 'None', 'None', 'None', 'None', 'None', 'None', 'None', 'None', 'None', 'None', 'None', 'None', 'None', 'None', 'None', 'None', 'None', 'None', 'None', 'None', 'None', 'None', 'None', 'None', 'None', 'None', 'None', 'None', 'None', 'None', 'None', 'None', 'None', 'None', 'None', 'None', 'None', 'None', 'None', 'None', 'None', 'None', 'None', 'None', 'None', 'None', 'None', 'None', 'None', 'None', 'None', 'None', 'None', 'None', 'None', 'None', 'None', 'None', 'None', 'None', 'None', 'None', 'None', 'None', 'None', 'None', 'None', 'None', 'None', 'None', 'None', 'None', 'None', 'None', 'None', 'None', 'None', 'None', 'None', 'None', 'None', 'None', 'None', 'None', 'None', 'None', 'None', 'None', 'None', 'None', 'None', 'None', 'None', 'None', 'None', 'None', 'None', 'None', 'None', 'None', 'None', 'None', 'None', 'None', 'None', 'None', 'None', 'None', 'None', 'None', 'None', 'None', 'None', 'None', 'None', 'None', 'None', 'None', 'None', 'None', 'None', 'None', 'None', 'None', 'None', 'None', 'None', 'None', 'None', 'None', 'None', 'None', 'None', 'None', 'None', 'None', 'None', 'None', 'None', 'None', 'None', 'None', 'None', 'None', 'None', 'None', 'None', 'None', 'None', 'None', 'None', 'None', 'None', 'None', 'None', 'None', 'None', 'None', 'None', 'None', 'None', 'None', 'None', 'None', 'None', 'None', 'None', 'None', 'None', 'None', 'None', 'None', 'None', 'None', 'None', 'None', 'None', 'None', 'None', 'None', 'None', 'None', 'None', 'None', 'None', 'None', 'None', 'None', 'None', 'None', 'None', 'None', 'None', 'None', 'None', 'None', 'None', 'None', 'None', 'None', 'None', 'None', 'None', 'None', 'None', 'None', 'None', 'None', 'None', 'None', 'None', 'None', 'None', 'None', 'None', 'None', 'None', 'None', 'None', 'None', 'None', 'None', 'None', 'None', 'None', 'None', 'None', 'None', 'None', 'None', 'None', 'None', 'None', 'None', 'None', 'None', 'None', 'None', 'None', 'None', 'None', 'None', 'None', 'None', 'None', 'None', 'None', 'None', 'None', 'None', 'None', 'None', 'None', 'None', 'None', 'None', 'None', 'None', 'None', 'None', 'None', 'None', 'None', 'None', 'None', 'None', 'None', 'None', 'None', 'None', 'None', 'None', 'None', 'None', 'None', 'None', 'None', 'None', 'None', 'None', 'None', 'None', 'None', 'None', 'None', 'None', 'None', 'None', 'None', 'None', 'None', 'None', 'None', 'None', 'None', 'None', 'None', 'None', 'None', 'None', 'None', 'None', 'None', 'None', 'None', 'None', 'None', 'None', 'None', 'None', 'None', 'None', 'None', 'None', 'None', 'None', 'None', 'None', 'None', 'None', 'None', 'None', 'None', 'None', 'None', 'None', 'None', 'None', 'None', 'None', 'None', 'None', 'None', 'None', 'None', 'None', 'None', 'None', 'None', 'None', 'None', 'None', 'None', 'None', 'None', 'None', 'None', 'None', 'None', 'None', 'None', 'None', 'None', 'None', 'None', 'None', 'None', 'None', 'None', 'None', 'None', 'None', 'None', 'None', 'None', 'None', 'None', 'None', 'None', 'None', 'None', 'None', 'None', 'None', 'None', 'None', 'None', 'None', 'None', 'None', 'None', 'None', 'None', 'None', 'None', 'None', 'None', 'None', 'None', 'None', 'None', 'None', 'None', 'None', 'None', 'None', 'None', 'None', 'None', 'None', 'None', 'None', 'None', 'None', 'None', 'None', 'None', 'None', 'None', 'None', 'None', 'None', 'None', 'None', 'None', 'None', 'None', 'None', 'None', 'None', 'None', 'None', 'None', 'None', 'None', 'None', 'None', 'None', 'None', 'None', 'None', 'None', 'None', 'None', 'None', 'None', 'None', 'None', 'None', 'None', 'None', 'None', 'None', 'None', 'None', 'None', 'None', 'None', 'None', 'None', 'None', 'None', 'None', 'None', 'None', 'None', 'None', 'None', 'None', 'None', 'None', 'None', 'None', 'None', 'None', 'None', 'None', 'None', 'None', 'None', 'None', 'None', 'None', 'None', 'None', 'None', 'None', 'None', 'None', 'None', 'None', 'None', 'None', 'None', 'None', 'None', 'None', 'None', 'None', 'None', 'None', 'None', 'None', 'None', 'None', 'None', 'None', 'None', 'None', 'None', 'None', 'None', 'None', 'None', 'None', 'None', 'None', 'None', 'None', 'None', 'None', 'None', 'None', 'None', 'None', 'None', 'None', 'None', 'None', 'None', 'None', 'None', 'None', 'None', 'None', 'None', 'None', 'None', 'None', 'None', 'None', 'None', 'None', 'None', 'None', 'None', 'None', 'None', 'None', 'None', 'None', 'None', 'None', 'None', 'None', 'None', 'None', 'None', 'None', 'None', 'None', 'None', 'None', 'None', 'None', 'None', 'None', 'None', 'None', 'None', 'None', 'None', 'None', 'None', 'None', 'None', 'None', 'None', 'None', 'None', 'None', 'None', 'None', 'None', 'None', 'None', 'None', 'None', 'None', 'None', 'None', 'None', 'None', 'None', 'None', 'None', 'None', 'None', 'None', 'None', 'None', 'None', 'None', 'None', 'None', 'None', 'None', 'None', 'None', 'None', 'None', 'None', 'None', 'None', 'None', 'None', 'None', 'None', 'None', 'None', 'None', 'None', 'None', 'None', 'None', 'None', 'None', 'None', 'None', 'None', 'None', 'None', 'None', 'None', 'None', 'None', 'None', 'None', 'None', 'None', 'None', 'None', 'None', 'None', 'None', 'None', 'None', 'None', 'None', 'None', 'None', 'None', 'None', 'None', 'None', 'None', 'None', 'None', 'None', 'None', 'None', 'None', 'None', 'None', 'None', 'None', 'None', 'None', 'None', 'None', 'None', 'None', 'None', 'None', 'None', 'None', 'None', 'None', 'None', 'None', 'None', 'None', 'None', 'None', 'None', 'None', 'None', 'None', 'None', 'None', 'None', 'None', 'None', 'None', 'None', 'None', 'None', 'None', 'None', 'None', 'None', 'None', 'None', 'None', 'None', 'None', 'None', 'None', 'None', 'None', 'None', 'None', 'None', 'None', 'None', 'None', 'None', 'None', 'None', 'None', 'None', 'None', 'None', 'None', 'None', 'None', 'None', 'None', 'None', 'None', 'None', 'None', 'None', 'None', 'None', 'None', 'None', 'None', 'None', 'None', 'None', 'None', 'None', 'None', 'None', 'None', 'None', 'None', 'None', 'None', 'None', 'None', 'None', 'None', 'None', 'None', 'None', 'None', 'None', 'None', 'None', 'None', 'None', 'None', 'None', 'None', 'None', 'None', 'None', 'None', 'None', 'None', 'None', 'None', 'None', 'None', 'None', 'None', 'None', 'None', 'None', 'None', 'None', 'None', 'None', 'None', 'None', 'None', 'None', 'None', 'None', 'None', 'None', 'None', 'None', 'None', 'None', 'None', 'None', 'None', 'None', 'None', 'None', 'None', 'None', 'None', 'None', 'None', 'None', 'None', 'None', 'None', 'None', 'None', 'None', 'None', 'None', 'None', 'None', 'None', 'None', 'None', 'None', 'None', 'None', 'None', 'None', 'None', 'None', 'None', 'None', 'None', 'None', 'None', 'None', 'None', 'None', 'None', 'None', 'None', 'None', 'None', 'None', 'None', 'None', 'None', 'None', 'None', 'None', 'None', 'None', 'None', 'None', 'None', 'None', 'None', 'None', 'None', 'None', 'None', 'None', 'None', 'None', 'None', 'None', 'None', 'None', 'None', 'None', 'None', 'None', 'None', 'None', 'None', 'None', 'None', 'None', 'None', 'None', 'None', 'None', 'None', 'None', 'None', 'None', 'None', 'None', 'None', 'None', 'None', 'None', 'None', 'None', 'None', 'None', 'None', 'None', 'None', 'None', 'None', 'None', 'None', 'None', 'None', 'None', 'None', 'None', 'None', 'None']\n"
     ]
    }
   ],
   "source": [
    "def get_invoice():\n",
    "    \n",
    "#set a variable to the file path of our spreadsheet#\n",
    "    excelfile = URL\n",
    "#use the imported load_workbook() function to retrieve the spreadsheet#\n",
    "    wb = load_workbook(excelfile)\n",
    "#since we have the ability to store multiple spreadsheets in a single workbook, we’re setting up a #variable to access our first and only spreadsheet#\n",
    "    ws = wb[wb.sheetnames[1]]\n",
    "    \n",
    "    invoice = []\n",
    "\n",
    "    for row in ws.iter_rows(min_row=4, max_row=ws.max_row):\n",
    "        for cell in row:\n",
    "            #print(cell.value)#uncomment this line to see each cell’s data\n",
    "            invoice.append(str(cell.value))\n",
    "            \n",
    "    return invoice\n",
    "\n",
    "print(get_invoice())"
   ]
  },
  {
   "cell_type": "code",
   "execution_count": 25,
   "metadata": {},
   "outputs": [],
   "source": [
    "invoice = get_invoice()"
   ]
  },
  {
   "cell_type": "code",
   "execution_count": 8,
   "metadata": {},
   "outputs": [
    {
     "data": {
      "text/plain": [
       "list"
      ]
     },
     "execution_count": 8,
     "metadata": {},
     "output_type": "execute_result"
    }
   ],
   "source": [
    "type(invoice)"
   ]
  },
  {
   "cell_type": "code",
   "execution_count": 25,
   "metadata": {},
   "outputs": [
    {
     "data": {
      "text/plain": [
       "['Dept',\n",
       " 'Net Impact of Bulk Changes EFF this WK',\n",
       " 'CURR Bulk Contribution to SYSMOHQ',\n",
       " ' New Bulk Contribution to SYSMOHQ ',\n",
       " 'None']"
      ]
     },
     "execution_count": 25,
     "metadata": {},
     "output_type": "execute_result"
    }
   ],
   "source": [
    "invoice[:5]"
   ]
  },
  {
   "cell_type": "code",
   "execution_count": 29,
   "metadata": {},
   "outputs": [],
   "source": [
    "a= np.array([[1,2],[3,4]])"
   ]
  },
  {
   "cell_type": "code",
   "execution_count": 31,
   "metadata": {},
   "outputs": [
    {
     "data": {
      "text/plain": [
       "array([[1, 2, 3, 4]])"
      ]
     },
     "execution_count": 31,
     "metadata": {},
     "output_type": "execute_result"
    }
   ],
   "source": [
    "a.reshape(1,4)"
   ]
  },
  {
   "cell_type": "code",
   "execution_count": 36,
   "metadata": {},
   "outputs": [
    {
     "data": {
      "text/html": [
       "<div>\n",
       "<style scoped>\n",
       "    .dataframe tbody tr th:only-of-type {\n",
       "        vertical-align: middle;\n",
       "    }\n",
       "\n",
       "    .dataframe tbody tr th {\n",
       "        vertical-align: top;\n",
       "    }\n",
       "\n",
       "    .dataframe thead th {\n",
       "        text-align: right;\n",
       "    }\n",
       "</style>\n",
       "<table border=\"1\" class=\"dataframe\">\n",
       "  <thead>\n",
       "    <tr style=\"text-align: right;\">\n",
       "      <th></th>\n",
       "      <th>Dept</th>\n",
       "      <th>Net Impact of Bulk Changes EFF this WK</th>\n",
       "      <th>CURR Bulk Contribution to SYSMOHQ</th>\n",
       "      <th>New Bulk Contribution to SYSMOHQ</th>\n",
       "      <th>None</th>\n",
       "    </tr>\n",
       "  </thead>\n",
       "  <tbody>\n",
       "    <tr>\n",
       "      <th>0</th>\n",
       "      <td>Dept</td>\n",
       "      <td>Net Impact of Bulk Changes EFF this WK</td>\n",
       "      <td>CURR Bulk Contribution to SYSMOHQ</td>\n",
       "      <td>New Bulk Contribution to SYSMOHQ</td>\n",
       "      <td>None</td>\n",
       "    </tr>\n",
       "    <tr>\n",
       "      <th>1</th>\n",
       "      <td>21</td>\n",
       "      <td>57907.16781993</td>\n",
       "      <td>6608026.728314498</td>\n",
       "      <td>6665933.896134428</td>\n",
       "      <td>None</td>\n",
       "    </tr>\n",
       "    <tr>\n",
       "      <th>2</th>\n",
       "      <td>22</td>\n",
       "      <td>42833.531958</td>\n",
       "      <td>12846234.78630071</td>\n",
       "      <td>12889068.318258712</td>\n",
       "      <td>None</td>\n",
       "    </tr>\n",
       "    <tr>\n",
       "      <th>3</th>\n",
       "      <td>24</td>\n",
       "      <td>21.94</td>\n",
       "      <td>852726.8312102789</td>\n",
       "      <td>852748.771210279</td>\n",
       "      <td>None</td>\n",
       "    </tr>\n",
       "    <tr>\n",
       "      <th>4</th>\n",
       "      <td>27</td>\n",
       "      <td>20561.42267932001</td>\n",
       "      <td>8354384.384553242</td>\n",
       "      <td>8375889.500501822</td>\n",
       "      <td>None</td>\n",
       "    </tr>\n",
       "  </tbody>\n",
       "</table>\n",
       "</div>"
      ],
      "text/plain": [
       "   Dept  Net Impact of Bulk Changes EFF this WK  \\\n",
       "0  Dept  Net Impact of Bulk Changes EFF this WK   \n",
       "1    21                          57907.16781993   \n",
       "2    22                            42833.531958   \n",
       "3    24                                   21.94   \n",
       "4    27                       20561.42267932001   \n",
       "\n",
       "   CURR Bulk Contribution to SYSMOHQ   New Bulk Contribution to SYSMOHQ   None  \n",
       "0  CURR Bulk Contribution to SYSMOHQ   New Bulk Contribution to SYSMOHQ   None  \n",
       "1                  6608026.728314498                   6665933.896134428  None  \n",
       "2                  12846234.78630071                  12889068.318258712  None  \n",
       "3                  852726.8312102789                    852748.771210279  None  \n",
       "4                  8354384.384553242                   8375889.500501822  None  "
      ]
     },
     "execution_count": 36,
     "metadata": {},
     "output_type": "execute_result"
    }
   ],
   "source": [
    "pd.DataFrame(np.array(invoice).reshape(267,5),columns = invoice[:5]).head()"
   ]
  },
  {
   "cell_type": "code",
   "execution_count": 12,
   "metadata": {},
   "outputs": [],
   "source": [
    "example = pd.DataFrame(np.array(invoice).reshape(267,5),columns = invoice[:5])"
   ]
  },
  {
   "cell_type": "code",
   "execution_count": 14,
   "metadata": {},
   "outputs": [
    {
     "name": "stdout",
     "output_type": "stream",
     "text": [
      "(0, 'Dept', 'Net Impact of Bulk Changes EFF this WK', 'CURR Bulk Contribution to SYSMOHQ', ' New Bulk Contribution to SYSMOHQ ')\n",
      "(1, '21', '57907.16781993', '6608026.728314498', '6665933.896134428')\n",
      "(2, '22', '42833.531958', '12846234.78630071', '12889068.318258712')\n",
      "(3, '24', '21.94', '852726.8312102789', '852748.771210279')\n",
      "(4, '27', '20561.42267932001', '8354384.384553242', '8375889.500501822')\n",
      "(5, '30', '0', '703283.9551331698', '703283.9551331698')\n",
      "(6, '23F', '159.94', '1496966.8893374812', '1497126.8293374812')\n",
      "(7, '25H', '934.63627878', '1617153.5976921471', '1618088.2339709273')\n",
      "(8, '25T', '1163.94', '953682.5590972246', '954846.4990972246')\n",
      "(9, '26P', '1799.576356', '1448734.761957381', '1450798.123504431')\n",
      "(10, '28I', '16.16', '506102.9995097194', '506119.15950971935')\n",
      "(11, '28O', '0', '60376.302704969996', '60376.302704969996')\n",
      "(12, '29A', '558', '18684.85138862', '19242.85138862')\n",
      "(13, '29B', '59038.666289159846', '338081.63740903896', '397120.30369819887')\n",
      "(14, '59S', '1271.5520325599998', '25144.597385169996', '26416.14941772999')\n",
      "(15, 'Grand Total', '186266.53341374986', '35829584.881993644', '36017058.89386771')\n",
      "(16, 'None', 'None', 'None', 'None')\n",
      "(17, 'None', 'None', 'None', 'None')\n",
      "(18, 'None', 'None', 'None', 'None')\n",
      "(19, 'None', 'None', 'None', 'None')\n",
      "(20, 'None', 'None', 'None', 'None')\n",
      "(21, 'None', 'None', 'None', 'None')\n",
      "(22, 'None', 'None', 'None', 'None')\n",
      "(23, 'None', 'None', 'None', 'None')\n",
      "(24, 'None', 'None', 'None', 'None')\n",
      "(25, 'None', 'None', 'None', 'None')\n",
      "(26, 'None', 'None', 'None', 'None')\n",
      "(27, 'None', 'None', 'None', 'None')\n",
      "(28, 'None', 'None', 'None', 'None')\n",
      "(29, 'None', 'None', 'None', 'None')\n",
      "(30, 'None', 'None', 'None', 'None')\n",
      "(31, 'None', 'None', 'None', 'None')\n",
      "(32, 'None', 'None', 'None', 'None')\n",
      "(33, 'None', 'None', 'None', 'None')\n",
      "(34, 'None', 'None', 'None', 'None')\n",
      "(35, 'None', 'None', 'None', 'None')\n",
      "(36, 'None', 'None', 'None', 'None')\n",
      "(37, 'None', 'None', 'None', 'None')\n",
      "(38, 'None', 'None', 'None', 'None')\n",
      "(39, 'None', 'None', 'None', 'None')\n",
      "(40, 'None', 'None', 'None', 'None')\n",
      "(41, 'None', 'None', 'None', 'None')\n",
      "(42, 'None', 'None', 'None', 'None')\n",
      "(43, 'None', 'None', 'None', 'None')\n",
      "(44, 'None', 'None', 'None', 'None')\n",
      "(45, 'None', 'None', 'None', 'None')\n",
      "(46, 'None', 'None', 'None', 'None')\n",
      "(47, 'None', 'None', 'None', 'None')\n",
      "(48, 'None', 'None', 'None', 'None')\n",
      "(49, 'None', 'None', 'None', 'None')\n",
      "(50, 'None', 'None', 'None', 'None')\n",
      "(51, 'None', 'None', 'None', 'None')\n",
      "(52, 'None', 'None', 'None', 'None')\n",
      "(53, 'None', 'None', 'None', 'None')\n",
      "(54, 'None', 'None', 'None', 'None')\n",
      "(55, 'None', 'None', 'None', 'None')\n",
      "(56, 'None', 'None', 'None', 'None')\n",
      "(57, 'None', 'None', 'None', 'None')\n",
      "(58, 'None', 'None', 'None', 'None')\n",
      "(59, 'None', 'None', 'None', 'None')\n",
      "(60, 'None', 'None', 'None', 'None')\n",
      "(61, 'None', 'None', 'None', 'None')\n",
      "(62, 'None', 'None', 'None', 'None')\n",
      "(63, 'None', 'None', 'None', 'None')\n",
      "(64, 'None', 'None', 'None', 'None')\n",
      "(65, 'None', 'None', 'None', 'None')\n",
      "(66, 'None', 'None', 'None', 'None')\n",
      "(67, 'None', 'None', 'None', 'None')\n",
      "(68, 'None', 'None', 'None', 'None')\n",
      "(69, 'None', 'None', 'None', 'None')\n",
      "(70, 'None', 'None', 'None', 'None')\n",
      "(71, 'None', 'None', 'None', 'None')\n",
      "(72, 'None', 'None', 'None', 'None')\n",
      "(73, 'None', 'None', 'None', 'None')\n",
      "(74, 'None', 'None', 'None', 'None')\n",
      "(75, 'None', 'None', 'None', 'None')\n",
      "(76, 'None', 'None', 'None', 'None')\n",
      "(77, 'None', 'None', 'None', 'None')\n",
      "(78, 'None', 'None', 'None', 'None')\n",
      "(79, 'None', 'None', 'None', 'None')\n",
      "(80, 'None', 'None', 'None', 'None')\n",
      "(81, 'None', 'None', 'None', 'None')\n",
      "(82, 'None', 'None', 'None', 'None')\n",
      "(83, 'None', 'None', 'None', 'None')\n",
      "(84, 'None', 'None', 'None', 'None')\n",
      "(85, 'None', 'None', 'None', 'None')\n",
      "(86, 'None', 'None', 'None', 'None')\n",
      "(87, 'None', 'None', 'None', 'None')\n",
      "(88, 'None', 'None', 'None', 'None')\n",
      "(89, 'None', 'None', 'None', 'None')\n",
      "(90, 'None', 'None', 'None', 'None')\n",
      "(91, 'None', 'None', 'None', 'None')\n",
      "(92, 'None', 'None', 'None', 'None')\n",
      "(93, 'None', 'None', 'None', 'None')\n",
      "(94, 'None', 'None', 'None', 'None')\n",
      "(95, 'None', 'None', 'None', 'None')\n",
      "(96, 'None', 'None', 'None', 'None')\n",
      "(97, 'None', 'None', 'None', 'None')\n",
      "(98, 'None', 'None', 'None', 'None')\n",
      "(99, 'None', 'None', 'None', 'None')\n",
      "(100, 'None', 'None', 'None', 'None')\n",
      "(101, 'None', 'None', 'None', 'None')\n",
      "(102, 'None', 'None', 'None', 'None')\n",
      "(103, 'None', 'None', 'None', 'None')\n",
      "(104, 'None', 'None', 'None', 'None')\n",
      "(105, 'None', 'None', 'None', 'None')\n",
      "(106, 'None', 'None', 'None', 'None')\n",
      "(107, 'None', 'None', 'None', 'None')\n",
      "(108, 'None', 'None', 'None', 'None')\n",
      "(109, 'None', 'None', 'None', 'None')\n",
      "(110, 'None', 'None', 'None', 'None')\n",
      "(111, 'None', 'None', 'None', 'None')\n",
      "(112, 'None', 'None', 'None', 'None')\n",
      "(113, 'None', 'None', 'None', 'None')\n",
      "(114, 'None', 'None', 'None', 'None')\n",
      "(115, 'None', 'None', 'None', 'None')\n",
      "(116, 'None', 'None', 'None', 'None')\n",
      "(117, 'None', 'None', 'None', 'None')\n",
      "(118, 'None', 'None', 'None', 'None')\n",
      "(119, 'None', 'None', 'None', 'None')\n",
      "(120, 'None', 'None', 'None', 'None')\n",
      "(121, 'None', 'None', 'None', 'None')\n",
      "(122, 'None', 'None', 'None', 'None')\n",
      "(123, 'None', 'None', 'None', 'None')\n",
      "(124, 'None', 'None', 'None', 'None')\n",
      "(125, 'None', 'None', 'None', 'None')\n",
      "(126, 'None', 'None', 'None', 'None')\n",
      "(127, 'None', 'None', 'None', 'None')\n",
      "(128, 'None', 'None', 'None', 'None')\n",
      "(129, 'None', 'None', 'None', 'None')\n",
      "(130, 'None', 'None', 'None', 'None')\n",
      "(131, 'None', 'None', 'None', 'None')\n",
      "(132, 'None', 'None', 'None', 'None')\n",
      "(133, 'None', 'None', 'None', 'None')\n",
      "(134, 'None', 'None', 'None', 'None')\n",
      "(135, 'None', 'None', 'None', 'None')\n",
      "(136, 'None', 'None', 'None', 'None')\n",
      "(137, 'None', 'None', 'None', 'None')\n",
      "(138, 'None', 'None', 'None', 'None')\n",
      "(139, 'None', 'None', 'None', 'None')\n",
      "(140, 'None', 'None', 'None', 'None')\n",
      "(141, 'None', 'None', 'None', 'None')\n",
      "(142, 'None', 'None', 'None', 'None')\n",
      "(143, 'None', 'None', 'None', 'None')\n",
      "(144, 'None', 'None', 'None', 'None')\n",
      "(145, 'None', 'None', 'None', 'None')\n",
      "(146, 'None', 'None', 'None', 'None')\n",
      "(147, 'None', 'None', 'None', 'None')\n",
      "(148, 'None', 'None', 'None', 'None')\n",
      "(149, 'None', 'None', 'None', 'None')\n",
      "(150, 'None', 'None', 'None', 'None')\n",
      "(151, 'None', 'None', 'None', 'None')\n",
      "(152, 'None', 'None', 'None', 'None')\n",
      "(153, 'None', 'None', 'None', 'None')\n",
      "(154, 'None', 'None', 'None', 'None')\n",
      "(155, 'None', 'None', 'None', 'None')\n",
      "(156, 'None', 'None', 'None', 'None')\n",
      "(157, 'None', 'None', 'None', 'None')\n",
      "(158, 'None', 'None', 'None', 'None')\n",
      "(159, 'None', 'None', 'None', 'None')\n",
      "(160, 'None', 'None', 'None', 'None')\n",
      "(161, 'None', 'None', 'None', 'None')\n",
      "(162, 'None', 'None', 'None', 'None')\n",
      "(163, 'None', 'None', 'None', 'None')\n",
      "(164, 'None', 'None', 'None', 'None')\n",
      "(165, 'None', 'None', 'None', 'None')\n",
      "(166, 'None', 'None', 'None', 'None')\n",
      "(167, 'None', 'None', 'None', 'None')\n",
      "(168, 'None', 'None', 'None', 'None')\n",
      "(169, 'None', 'None', 'None', 'None')\n",
      "(170, 'None', 'None', 'None', 'None')\n",
      "(171, 'None', 'None', 'None', 'None')\n",
      "(172, 'None', 'None', 'None', 'None')\n",
      "(173, 'None', 'None', 'None', 'None')\n",
      "(174, 'None', 'None', 'None', 'None')\n",
      "(175, 'None', 'None', 'None', 'None')\n",
      "(176, 'None', 'None', 'None', 'None')\n",
      "(177, 'None', 'None', 'None', 'None')\n",
      "(178, 'None', 'None', 'None', 'None')\n",
      "(179, 'None', 'None', 'None', 'None')\n",
      "(180, 'None', 'None', 'None', 'None')\n",
      "(181, 'None', 'None', 'None', 'None')\n",
      "(182, 'None', 'None', 'None', 'None')\n",
      "(183, 'None', 'None', 'None', 'None')\n",
      "(184, 'None', 'None', 'None', 'None')\n",
      "(185, 'None', 'None', 'None', 'None')\n",
      "(186, 'None', 'None', 'None', 'None')\n",
      "(187, 'None', 'None', 'None', 'None')\n",
      "(188, 'None', 'None', 'None', 'None')\n",
      "(189, 'None', 'None', 'None', 'None')\n",
      "(190, 'None', 'None', 'None', 'None')\n",
      "(191, 'None', 'None', 'None', 'None')\n",
      "(192, 'None', 'None', 'None', 'None')\n",
      "(193, 'None', 'None', 'None', 'None')\n",
      "(194, 'None', 'None', 'None', 'None')\n",
      "(195, 'None', 'None', 'None', 'None')\n",
      "(196, 'None', 'None', 'None', 'None')\n",
      "(197, 'None', 'None', 'None', 'None')\n",
      "(198, 'None', 'None', 'None', 'None')\n",
      "(199, 'None', 'None', 'None', 'None')\n",
      "(200, 'None', 'None', 'None', 'None')\n",
      "(201, 'None', 'None', 'None', 'None')\n",
      "(202, 'None', 'None', 'None', 'None')\n",
      "(203, 'None', 'None', 'None', 'None')\n",
      "(204, 'None', 'None', 'None', 'None')\n",
      "(205, 'None', 'None', 'None', 'None')\n",
      "(206, 'None', 'None', 'None', 'None')\n",
      "(207, 'None', 'None', 'None', 'None')\n",
      "(208, 'None', 'None', 'None', 'None')\n",
      "(209, 'None', 'None', 'None', 'None')\n",
      "(210, 'None', 'None', 'None', 'None')\n",
      "(211, 'None', 'None', 'None', 'None')\n",
      "(212, 'None', 'None', 'None', 'None')\n",
      "(213, 'None', 'None', 'None', 'None')\n",
      "(214, 'None', 'None', 'None', 'None')\n",
      "(215, 'None', 'None', 'None', 'None')\n",
      "(216, 'None', 'None', 'None', 'None')\n",
      "(217, 'None', 'None', 'None', 'None')\n",
      "(218, 'None', 'None', 'None', 'None')\n",
      "(219, 'None', 'None', 'None', 'None')\n",
      "(220, 'None', 'None', 'None', 'None')\n",
      "(221, 'None', 'None', 'None', 'None')\n",
      "(222, 'None', 'None', 'None', 'None')\n",
      "(223, 'None', 'None', 'None', 'None')\n",
      "(224, 'None', 'None', 'None', 'None')\n",
      "(225, 'None', 'None', 'None', 'None')\n",
      "(226, 'None', 'None', 'None', 'None')\n",
      "(227, 'None', 'None', 'None', 'None')\n",
      "(228, 'None', 'None', 'None', 'None')\n",
      "(229, 'None', 'None', 'None', 'None')\n",
      "(230, 'None', 'None', 'None', 'None')\n",
      "(231, 'None', 'None', 'None', 'None')\n",
      "(232, 'None', 'None', 'None', 'None')\n",
      "(233, 'None', 'None', 'None', 'None')\n",
      "(234, 'None', 'None', 'None', 'None')\n",
      "(235, 'None', 'None', 'None', 'None')\n",
      "(236, 'None', 'None', 'None', 'None')\n",
      "(237, 'None', 'None', 'None', 'None')\n",
      "(238, 'None', 'None', 'None', 'None')\n",
      "(239, 'None', 'None', 'None', 'None')\n",
      "(240, 'None', 'None', 'None', 'None')\n",
      "(241, 'None', 'None', 'None', 'None')\n",
      "(242, 'None', 'None', 'None', 'None')\n",
      "(243, 'None', 'None', 'None', 'None')\n",
      "(244, 'None', 'None', 'None', 'None')\n"
     ]
    },
    {
     "name": "stdout",
     "output_type": "stream",
     "text": [
      "(245, 'None', 'None', 'None', 'None')\n",
      "(246, 'None', 'None', 'None', 'None')\n",
      "(247, 'None', 'None', 'None', 'None')\n",
      "(248, 'None', 'None', 'None', 'None')\n",
      "(249, 'None', 'None', 'None', 'None')\n",
      "(250, 'None', 'None', 'None', 'None')\n",
      "(251, 'None', 'None', 'None', 'None')\n",
      "(252, 'None', 'None', 'None', 'None')\n",
      "(253, 'None', 'None', 'None', 'None')\n",
      "(254, 'None', 'None', 'None', 'None')\n",
      "(255, 'None', 'None', 'None', 'None')\n",
      "(256, 'None', 'None', 'None', 'None')\n",
      "(257, 'None', 'None', 'None', 'None')\n",
      "(258, 'None', 'None', 'None', 'None')\n",
      "(259, 'None', 'None', 'None', 'None')\n",
      "(260, 'None', 'None', 'None', 'None')\n",
      "(261, 'None', 'None', 'None', 'None')\n",
      "(262, 'None', 'None', 'None', 'None')\n",
      "(263, 'None', 'None', 'None', 'None')\n",
      "(264, 'None', 'None', 'None', 'None')\n",
      "(265, 'None', 'None', 'None', 'None')\n",
      "(266, 'None', 'None', 'None', 'None')\n"
     ]
    }
   ],
   "source": [
    "for index, row in example.iterrows():\n",
    "    a = index, row[0],row[1],row[2],row[3]\n",
    "    print(a)\n",
    "    "
   ]
  },
  {
   "cell_type": "code",
   "execution_count": 16,
   "metadata": {},
   "outputs": [
    {
     "data": {
      "text/plain": [
       "tuple"
      ]
     },
     "execution_count": 16,
     "metadata": {},
     "output_type": "execute_result"
    }
   ],
   "source": [
    "type(a)"
   ]
  },
  {
   "cell_type": "code",
   "execution_count": 50,
   "metadata": {},
   "outputs": [],
   "source": [
    "example = example.iloc[1:15,:4]"
   ]
  },
  {
   "cell_type": "code",
   "execution_count": 55,
   "metadata": {},
   "outputs": [],
   "source": [
    "example =example.reset_index(drop = True)"
   ]
  },
  {
   "cell_type": "code",
   "execution_count": 90,
   "metadata": {},
   "outputs": [],
   "source": [
    "data_in_html=example.to_html()"
   ]
  },
  {
   "cell_type": "code",
   "execution_count": 67,
   "metadata": {},
   "outputs": [],
   "source": [
    "from IPython.core.display import display, HTML\n"
   ]
  },
  {
   "cell_type": "code",
   "execution_count": 72,
   "metadata": {},
   "outputs": [
    {
     "data": {
      "text/html": [
       "<h1>Hello, world!</h1>"
      ],
      "text/plain": [
       "<IPython.core.display.HTML object>"
      ]
     },
     "metadata": {},
     "output_type": "display_data"
    }
   ],
   "source": [
    "display(HTML('<h1>Hello, world!</h1>'))"
   ]
  },
  {
   "cell_type": "code",
   "execution_count": 95,
   "metadata": {},
   "outputs": [],
   "source": [
    "\n",
    "import re\n",
    "total_id = 'totalID'\n",
    "header_id = 'headerID'\n",
    "style_in_html = \"\"\"<style>\n",
    "    table#{total_table} {{color='black';font-size:13px; text-align:center; border:0.2px solid black;\n",
    "                         border-collapse:collapse; table-layout:fixed; height=\"250\"; text-align:center }}\n",
    "    thead#{header_table} {{background-color: #4D4D4D; color:#ffffff}}\n",
    "    </style>\"\"\".format(total_table=total_id, header_table=header_id)\n",
    "data_in_html = re.sub(r'<table', r'<table id=%s ' % total_id, data_in_html)\n",
    "data_in_html = re.sub(r'<thead', r'<thead id=%s ' % header_id, data_in_html)"
   ]
  },
  {
   "cell_type": "code",
   "execution_count": 96,
   "metadata": {},
   "outputs": [
    {
     "data": {
      "text/html": [
       "<style>\n",
       "    table#totalID {color='black';font-size:13px; text-align:center; border:0.2px solid black;\n",
       "                         border-collapse:collapse; table-layout:fixed; height=\"250\"; text-align:center }\n",
       "    thead#headerID {background-color: #4D4D4D; color:#ffffff}\n",
       "    </style><table id=totalID  id=totalID  border=\"1\" class=\"dataframe\">\n",
       "  <thead id=headerID  id=headerID >\n",
       "    <tr style=\"text-align: right;\">\n",
       "      <th></th>\n",
       "      <th>Dept</th>\n",
       "      <th>Net Impact of Bulk Changes EFF this WK</th>\n",
       "      <th>CURR Bulk Contribution to SYSMOHQ</th>\n",
       "      <th>New Bulk Contribution to SYSMOHQ</th>\n",
       "    </tr>\n",
       "  </thead>\n",
       "  <tbody>\n",
       "    <tr>\n",
       "      <th>0</th>\n",
       "      <td>22</td>\n",
       "      <td>42833.531958</td>\n",
       "      <td>12846234.78630071</td>\n",
       "      <td>12889068.318258712</td>\n",
       "    </tr>\n",
       "    <tr>\n",
       "      <th>1</th>\n",
       "      <td>24</td>\n",
       "      <td>21.94</td>\n",
       "      <td>852726.8312102789</td>\n",
       "      <td>852748.771210279</td>\n",
       "    </tr>\n",
       "    <tr>\n",
       "      <th>2</th>\n",
       "      <td>27</td>\n",
       "      <td>20561.42267932001</td>\n",
       "      <td>8354384.384553242</td>\n",
       "      <td>8375889.500501822</td>\n",
       "    </tr>\n",
       "    <tr>\n",
       "      <th>3</th>\n",
       "      <td>30</td>\n",
       "      <td>0</td>\n",
       "      <td>703283.9551331698</td>\n",
       "      <td>703283.9551331698</td>\n",
       "    </tr>\n",
       "    <tr>\n",
       "      <th>4</th>\n",
       "      <td>23F</td>\n",
       "      <td>159.94</td>\n",
       "      <td>1496966.8893374812</td>\n",
       "      <td>1497126.8293374812</td>\n",
       "    </tr>\n",
       "    <tr>\n",
       "      <th>5</th>\n",
       "      <td>25H</td>\n",
       "      <td>934.63627878</td>\n",
       "      <td>1617153.5976921471</td>\n",
       "      <td>1618088.2339709273</td>\n",
       "    </tr>\n",
       "    <tr>\n",
       "      <th>6</th>\n",
       "      <td>25T</td>\n",
       "      <td>1163.94</td>\n",
       "      <td>953682.5590972246</td>\n",
       "      <td>954846.4990972246</td>\n",
       "    </tr>\n",
       "    <tr>\n",
       "      <th>7</th>\n",
       "      <td>26P</td>\n",
       "      <td>1799.576356</td>\n",
       "      <td>1448734.761957381</td>\n",
       "      <td>1450798.123504431</td>\n",
       "    </tr>\n",
       "    <tr>\n",
       "      <th>8</th>\n",
       "      <td>28I</td>\n",
       "      <td>16.16</td>\n",
       "      <td>506102.9995097194</td>\n",
       "      <td>506119.15950971935</td>\n",
       "    </tr>\n",
       "    <tr>\n",
       "      <th>9</th>\n",
       "      <td>28O</td>\n",
       "      <td>0</td>\n",
       "      <td>60376.302704969996</td>\n",
       "      <td>60376.302704969996</td>\n",
       "    </tr>\n",
       "    <tr>\n",
       "      <th>10</th>\n",
       "      <td>29A</td>\n",
       "      <td>558</td>\n",
       "      <td>18684.85138862</td>\n",
       "      <td>19242.85138862</td>\n",
       "    </tr>\n",
       "    <tr>\n",
       "      <th>11</th>\n",
       "      <td>29B</td>\n",
       "      <td>59038.666289159846</td>\n",
       "      <td>338081.63740903896</td>\n",
       "      <td>397120.30369819887</td>\n",
       "    </tr>\n",
       "    <tr>\n",
       "      <th>12</th>\n",
       "      <td>59S</td>\n",
       "      <td>1271.5520325599998</td>\n",
       "      <td>25144.597385169996</td>\n",
       "      <td>26416.14941772999</td>\n",
       "    </tr>\n",
       "    <tr>\n",
       "      <th>13</th>\n",
       "      <td>Grand Total</td>\n",
       "      <td>186266.53341374986</td>\n",
       "      <td>35829584.881993644</td>\n",
       "      <td>36017058.89386771</td>\n",
       "    </tr>\n",
       "  </tbody>\n",
       "</table>"
      ],
      "text/plain": [
       "<IPython.core.display.HTML object>"
      ]
     },
     "execution_count": 96,
     "metadata": {},
     "output_type": "execute_result"
    }
   ],
   "source": [
    "HTML(style_in_html +data_in_html )"
   ]
  }
 ],
 "metadata": {
  "kernelspec": {
   "display_name": "Python 3",
   "language": "python",
   "name": "python3"
  },
  "language_info": {
   "codemirror_mode": {
    "name": "ipython",
    "version": 3
   },
   "file_extension": ".py",
   "mimetype": "text/x-python",
   "name": "python",
   "nbconvert_exporter": "python",
   "pygments_lexer": "ipython3",
   "version": "3.7.3"
  }
 },
 "nbformat": 4,
 "nbformat_minor": 2
}
