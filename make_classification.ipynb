{
 "cells": [
  {
   "cell_type": "code",
   "execution_count": 46,
   "metadata": {},
   "outputs": [],
   "source": [
    "from sklearn.datasets import make_classification\n",
    "import pandas as pd\n",
    "import matplotlib.pyplot as plt\n",
    "import seaborn as sns\n",
    "import numpy as np\n",
    "import ndjson\n",
    "import json\n",
    "import time\n",
    "import pandas_gbq"
   ]
  },
  {
   "cell_type": "code",
   "execution_count": 47,
   "metadata": {},
   "outputs": [],
   "source": [
    "X,y = make_classification(n_samples=1500000,\n",
    "                          n_features=10,\n",
    "                          n_informative=10,\n",
    "                          n_redundant=0,\n",
    "                          n_repeated=0,\n",
    "                          n_classes=2, weights=[0.95,0.05],flip_y=0, random_state=32)"
   ]
  },
  {
   "cell_type": "code",
   "execution_count": 48,
   "metadata": {},
   "outputs": [],
   "source": [
    "X = pd.DataFrame(X, columns=['inventory', \n",
    "                             'lead_time', \n",
    "                             'forecast_3_mon', \n",
    "                             'forecast_6_mon',\n",
    "                             'sales_1_mon', \n",
    "                             'sales_3_mon', \n",
    "                             'sales_6_mon',\n",
    "                             'potential_issue',\n",
    "                             'pieces_past_due',\n",
    "                             'min_rec_stock'\n",
    "                            ])"
   ]
  },
  {
   "cell_type": "code",
   "execution_count": 49,
   "metadata": {},
   "outputs": [
    {
     "data": {
      "text/html": [
       "<div>\n",
       "<style scoped>\n",
       "    .dataframe tbody tr th:only-of-type {\n",
       "        vertical-align: middle;\n",
       "    }\n",
       "\n",
       "    .dataframe tbody tr th {\n",
       "        vertical-align: top;\n",
       "    }\n",
       "\n",
       "    .dataframe thead th {\n",
       "        text-align: right;\n",
       "    }\n",
       "</style>\n",
       "<table border=\"1\" class=\"dataframe\">\n",
       "  <thead>\n",
       "    <tr style=\"text-align: right;\">\n",
       "      <th></th>\n",
       "      <th>inventory</th>\n",
       "      <th>lead_time</th>\n",
       "      <th>forecast_3_mon</th>\n",
       "      <th>forecast_6_mon</th>\n",
       "      <th>sales_1_mon</th>\n",
       "      <th>sales_3_mon</th>\n",
       "      <th>sales_6_mon</th>\n",
       "      <th>potential_issue</th>\n",
       "      <th>pieces_past_due</th>\n",
       "      <th>min_rec_stock</th>\n",
       "    </tr>\n",
       "  </thead>\n",
       "  <tbody>\n",
       "    <tr>\n",
       "      <th>0</th>\n",
       "      <td>-1.121051</td>\n",
       "      <td>2.852774</td>\n",
       "      <td>-3.446964</td>\n",
       "      <td>-2.849742</td>\n",
       "      <td>-0.452482</td>\n",
       "      <td>-2.438892</td>\n",
       "      <td>0.683574</td>\n",
       "      <td>-1.119757</td>\n",
       "      <td>-2.902390</td>\n",
       "      <td>-2.165217</td>\n",
       "    </tr>\n",
       "    <tr>\n",
       "      <th>1</th>\n",
       "      <td>1.648915</td>\n",
       "      <td>2.577414</td>\n",
       "      <td>0.709671</td>\n",
       "      <td>1.093720</td>\n",
       "      <td>1.274580</td>\n",
       "      <td>0.405842</td>\n",
       "      <td>1.342777</td>\n",
       "      <td>2.162144</td>\n",
       "      <td>0.133709</td>\n",
       "      <td>0.495183</td>\n",
       "    </tr>\n",
       "    <tr>\n",
       "      <th>2</th>\n",
       "      <td>-1.881091</td>\n",
       "      <td>-1.864079</td>\n",
       "      <td>-1.677800</td>\n",
       "      <td>-2.286465</td>\n",
       "      <td>3.170775</td>\n",
       "      <td>-1.097698</td>\n",
       "      <td>-3.423392</td>\n",
       "      <td>1.102386</td>\n",
       "      <td>-3.136253</td>\n",
       "      <td>-0.449521</td>\n",
       "    </tr>\n",
       "    <tr>\n",
       "      <th>3</th>\n",
       "      <td>-0.860851</td>\n",
       "      <td>0.084452</td>\n",
       "      <td>-1.336023</td>\n",
       "      <td>-1.607596</td>\n",
       "      <td>-2.766790</td>\n",
       "      <td>-2.952167</td>\n",
       "      <td>-3.215127</td>\n",
       "      <td>3.111840</td>\n",
       "      <td>-0.174635</td>\n",
       "      <td>4.433006</td>\n",
       "    </tr>\n",
       "    <tr>\n",
       "      <th>4</th>\n",
       "      <td>3.122227</td>\n",
       "      <td>1.628874</td>\n",
       "      <td>-2.281742</td>\n",
       "      <td>-1.838121</td>\n",
       "      <td>0.444281</td>\n",
       "      <td>1.167371</td>\n",
       "      <td>4.271829</td>\n",
       "      <td>-0.252804</td>\n",
       "      <td>-0.926022</td>\n",
       "      <td>1.931466</td>\n",
       "    </tr>\n",
       "  </tbody>\n",
       "</table>\n",
       "</div>"
      ],
      "text/plain": [
       "   inventory  lead_time  forecast_3_mon  forecast_6_mon  sales_1_mon  \\\n",
       "0  -1.121051   2.852774       -3.446964       -2.849742    -0.452482   \n",
       "1   1.648915   2.577414        0.709671        1.093720     1.274580   \n",
       "2  -1.881091  -1.864079       -1.677800       -2.286465     3.170775   \n",
       "3  -0.860851   0.084452       -1.336023       -1.607596    -2.766790   \n",
       "4   3.122227   1.628874       -2.281742       -1.838121     0.444281   \n",
       "\n",
       "   sales_3_mon  sales_6_mon  potential_issue  pieces_past_due  min_rec_stock  \n",
       "0    -2.438892     0.683574        -1.119757        -2.902390      -2.165217  \n",
       "1     0.405842     1.342777         2.162144         0.133709       0.495183  \n",
       "2    -1.097698    -3.423392         1.102386        -3.136253      -0.449521  \n",
       "3    -2.952167    -3.215127         3.111840        -0.174635       4.433006  \n",
       "4     1.167371     4.271829        -0.252804        -0.926022       1.931466  "
      ]
     },
     "execution_count": 49,
     "metadata": {},
     "output_type": "execute_result"
    }
   ],
   "source": [
    "X.head()"
   ]
  },
  {
   "cell_type": "code",
   "execution_count": 17,
   "metadata": {},
   "outputs": [],
   "source": [
    "inven_labels = [i for i in range(0,31)]\n",
    "X['inventory'] = pd.cut(X['inventory'],31, labels=inven_labels)\n",
    "X['inventory'] = X['inventory'].astype(int)"
   ]
  },
  {
   "cell_type": "code",
   "execution_count": 18,
   "metadata": {},
   "outputs": [],
   "source": [
    "lead_labels = [i for i in range(1,21)]\n",
    "X['lead_time'] = pd.cut(X['lead_time'], 20, labels=lead_labels)\n",
    "X['lead_time'] = X['lead_time'].astype(int)"
   ]
  },
  {
   "cell_type": "code",
   "execution_count": 19,
   "metadata": {},
   "outputs": [],
   "source": [
    "X['lead_time'] = [np.random.randint(10,20) for i in X['lead_time']]"
   ]
  },
  {
   "cell_type": "code",
   "execution_count": 20,
   "metadata": {},
   "outputs": [
    {
     "data": {
      "text/plain": [
       "<matplotlib.axes._subplots.AxesSubplot at 0x221dea2eac8>"
      ]
     },
     "execution_count": 20,
     "metadata": {},
     "output_type": "execute_result"
    },
    {
     "data": {
      "image/png": "[encoded data removed]",
      "text/plain": [
       "<Figure size 432x288 with 1 Axes>"
      ]
     },
     "metadata": {
      "needs_background": "light"
     },
     "output_type": "display_data"
    }
   ],
   "source": [
    "X['inventory'].hist()"
   ]
  },
  {
   "cell_type": "code",
   "execution_count": 21,
   "metadata": {},
   "outputs": [],
   "source": [
    "X['forecast_3_mon'] =  X['forecast_3_mon'].apply(lambda x: np.round(x+ np.random.randint(10,50),0))"
   ]
  },
  {
   "cell_type": "code",
   "execution_count": 22,
   "metadata": {},
   "outputs": [],
   "source": [
    "X['forecast_6_mon'] = [i*np.random.randint(1,3) for i in X['forecast_3_mon']]"
   ]
  },
  {
   "cell_type": "code",
   "execution_count": 23,
   "metadata": {},
   "outputs": [],
   "source": [
    "X['sales_1_mon'] = [np.round(i+np.random.randint(10,20),0) for i in X['sales_1_mon']]\n",
    "\n",
    "X['sales_3_mon'] = [i*np.random.randint(1,3) for i in X['sales_1_mon']]\n",
    "\n",
    "#Sales 6 months\n",
    "X['sales_6_mon'] = [i*np.random.randint(1,5) for i in X['sales_3_mon']]\n"
   ]
  },
  {
   "cell_type": "code",
   "execution_count": 26,
   "metadata": {},
   "outputs": [],
   "source": [
    "X['potential_issue'] = (X['sales_1_mon'] > X['inventory']) & (X['lead_time'] < 30)"
   ]
  },
  {
   "cell_type": "code",
   "execution_count": 29,
   "metadata": {},
   "outputs": [],
   "source": [
    "X['potential_issue'] = X['potential_issue'].replace({True:1, False:0})"
   ]
  },
  {
   "cell_type": "code",
   "execution_count": 32,
   "metadata": {},
   "outputs": [],
   "source": [
    "#Pieces past due\n",
    "X['pieces_past_due'] = np.round([i*-1 if i < 0 else i for i in X['pieces_past_due']],0)"
   ]
  },
  {
   "cell_type": "code",
   "execution_count": 33,
   "metadata": {},
   "outputs": [],
   "source": [
    "min_stock=[]\n",
    "for i,j in zip(X['min_rec_stock'], X['sales_1_mon']):\n",
    "        if (i < 0) & (j > 10):\n",
    "            min_stock.append((i*-1)*5)\n",
    "        elif (i < 0) & (j < 10):\n",
    "            min_stock.append((i*-1)+5)\n",
    "        elif (i > 0) & (j > 10):\n",
    "            min_stock.append(i*5)\n",
    "        else:\n",
    "            min_stock.append(i+5)\n",
    "X['min_rec_stock'] = np.round(min_stock,0)"
   ]
  },
  {
   "cell_type": "code",
   "execution_count": 34,
   "metadata": {},
   "outputs": [],
   "source": [
    "X['backorder'] = y\n",
    "\n",
    "#Add sku id\n",
    "X['sku'] = range(1,len(X['backorder']) + 1)"
   ]
  },
  {
   "cell_type": "code",
   "execution_count": 45,
   "metadata": {},
   "outputs": [
    {
     "name": "stdout",
     "output_type": "stream",
     "text": [
      "Sales json saved\n",
      "Total time was 0.14 minutes\n"
     ]
    }
   ],
   "source": [
    "#Convert to dicts and save as json\n",
    "\n",
    "\"\"\"\n",
    "In this section, 5 tables will be created\n",
    "    1. Inventory - will include sku, inventory, pieces past due, and min rec stock\n",
    "    2. Sales - will include sku, sales 1 mon, sales 3 mon, and sales 6 mon\n",
    "    3. Forecasts - will include sku, forecast 3 month, forecast 6 month\n",
    "    4. Inventory ordering - will include sku, lead time, and potential issue\n",
    "    5. Backorder - will include sku and if the item went on backorder\n",
    "\"\"\"   \n",
    "start = time.time()\n",
    "inventory = np.asanyarray(X[['sku', 'inventory', 'pieces_past_due', 'min_rec_stock']])\n",
    "inventory_list=[]\n",
    "for i in range(0,len(inventory)):\n",
    "    subset = inventory[i]\n",
    "    record = {'sku' : int(subset[0]),\n",
    "             'inventory': int(subset[1]),\n",
    "             'pieces_past_due': int(subset[2]),\n",
    "             'min_rec_stock': int(subset[3])}\n",
    "    inventory_list.append(record)\n",
    "    \n",
    "assert X['sku'][0] == inventory_list[0]['sku']\n",
    "assert len(inventory_list) == len(X['sku'])\n",
    "with open('inventory.ndjson', 'w') as f:\n",
    "    ndjson.dump(inventory_list,f)\n",
    "    \n",
    "print('Sales json saved')\n",
    "end = time.time()\n",
    "print(\"Total time was \" + str(np.round((end-start)/60,2)) + \" minutes\")"
   ]
  },
  {
   "cell_type": "code",
   "execution_count": 38,
   "metadata": {},
   "outputs": [],
   "source": []
  },
  {
   "cell_type": "code",
   "execution_count": 44,
   "metadata": {},
   "outputs": [],
   "source": []
  },
  {
   "cell_type": "code",
   "execution_count": null,
   "metadata": {},
   "outputs": [],
   "source": []
  }
 ],
 "metadata": {
  "kernelspec": {
   "display_name": "Python 3",
   "language": "python",
   "name": "python3"
  },
  "language_info": {
   "codemirror_mode": {
    "name": "ipython",
    "version": 3
   },
   "file_extension": ".py",
   "mimetype": "text/x-python",
   "name": "python",
   "nbconvert_exporter": "python",
   "pygments_lexer": "ipython3",
   "version": "3.7.3"
  }
 },
 "nbformat": 4,
 "nbformat_minor": 2
}
